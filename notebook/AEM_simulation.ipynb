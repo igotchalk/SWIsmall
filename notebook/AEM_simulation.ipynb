{
 "cells": [
  {
   "cell_type": "markdown",
   "metadata": {},
   "source": [
    "# AEM simulation over SWI grid"
   ]
  },
  {
   "cell_type": "code",
   "execution_count": 9,
   "metadata": {},
   "outputs": [
    {
     "name": "stdout",
     "output_type": "stream",
     "text": [
      "The autoreload extension is already loaded. To reload it, use:\n",
      "  %reload_ext autoreload\n",
      "Model workspace: /Users/ianpg/Documents/ProjectsLocal/SWIsmall/work/homogenous\n"
     ]
    }
   ],
   "source": [
    "from IPython.display import Image\n",
    "%matplotlib inline\n",
    "%load_ext autoreload\n",
    "%autoreload 2\n",
    "# %aimport SGD,utils\n",
    "import os\n",
    "from pathlib import Path\n",
    "import sys\n",
    "import numpy as np\n",
    "import numpy.matlib as matlib\n",
    "import matplotlib.pyplot as plt\n",
    "import matplotlib.colors\n",
    "import warnings\n",
    "import scipy.stats as sts\n",
    "import flopy\n",
    "import SGD\n",
    "from local_utils import *\n",
    "#Imports from simpegEM1D notebook Test_global_em1d_inversion_td-Copy2\n",
    "from SimPEG import Mesh, Maps, Utils, EM\n",
    "from matplotlib.colors import LogNorm\n",
    "from simpegEM1D import (\n",
    "    GlobalEM1DProblemTD, GlobalEM1DSurveyTD, get_vertical_discretization_time, \n",
    "    EM1DSurveyTD,skytem_HM_2015\n",
    ")\n",
    "from pymatsolver import PardisoSolver\n",
    "\n",
    "#Imports from simpegskytem notebook SLO-simulation\n",
    "sys.path.append('../../kang-2019-3D-aem/kang-2019-3D-aem/codes')\n",
    "from scipy.constants import mu_0\n",
    "from pyMKL import mkl_set_num_threads\n",
    "from multiprocessing import Pool\n",
    "from simpegskytem import ProblemSkyTEM, GlobalAEMSurveyTD, GlobalSkyTEM, get_skytem_survey\n",
    "import pandas as pd\n",
    "from scipy.interpolate import NearestNDInterpolator\n",
    "\n",
    "\n",
    "#Name model\n",
    "\n",
    "\n",
    "modelname = 'homogenous'\n",
    "if sys.platform == \"darwin\":\n",
    "    model_ws = Path('../work').joinpath(modelname)\n",
    "elif sys.platform == \"win32\":\n",
    "    model_ws = Path(r'E:\\Projects\\DelawareSGD\\work').joinpath(modelname)\n",
    "#     model_ws = os.path.join('E:\\Projects\\DelawareSGD','work',modelname)\n",
    "\n",
    "if not os.path.exists(model_ws):\n",
    "    os.makedirs(model_ws)\n",
    "sys.path.append(os.path.join(model_ws,'..','..'))\n",
    "import config\n",
    "sw_exe = config.swexe #set the exe path for seawat\n",
    "print('Model workspace:', os.path.abspath(model_ws))\n",
    "\n",
    "\n",
    "workdir = Path('../')\n",
    "figdir=  workdir.joinpath('work','figs')\n",
    "datadir = workdir.joinpath('data')\n",
    "objdir =  workdir.joinpath('data','objs')\n",
    "\n",
    "if not figdir.exists():\n",
    "    figdir.mkdir()"
   ]
  },
  {
   "cell_type": "markdown",
   "metadata": {},
   "source": [
    "### 1) Rock-physics\n",
    "#### Model: Use W-S to calculate end members (Clay,Sand) and Hashin-Strickman upper bound to upscale\n",
    "\n",
    "\n",
    "\n",
    "\n",
    "\n",
    "### W-S\n",
    "$\\large \\sigma_b = \\frac{1}{F} (\\sigma_{f} + B*Q_{v})$\n",
    "$F$ = Formation factor = $\\phi^{-m}$\n",
    "<br>\n",
    "$\\phi$ = Porosity\n",
    "<br>\n",
    "$m$ = Cementation exponent\n",
    "<br>\n",
    "$\\sigma_f$ = Fluid conductivity\n",
    "<br>\n",
    "$B$ = \n",
    "<br>\n",
    "$Q_v$ = \n",
    "<br><br>\n",
    "\n",
    "### HS+\n",
    "\n",
    "<img src=\"HSU.png\" alt=\"Drawing\" style=\"width: 300px;\" align=\"Left\"/>\n",
    "<br><br><br><br>\n",
    "\n",
    "\n",
    "$\\chi$ = Volume fraction \n",
    "<br>\n",
    "$\\sigma$ = Conductivity\n",
    "<br>\n"
   ]
  },
  {
   "cell_type": "code",
   "execution_count": 10,
   "metadata": {},
   "outputs": [],
   "source": [
    "m = flopy.seawat.Seawat(modelname, exe_name=sw_exe, model_ws=model_ws)\n",
    "SGD.ModelSGD.Seawat2SGD(m)  #convert to subclass ModelSGD\n",
    "m.MC_file = Path('/Users/ianpg/Documents/ProjectsLocal/SWIsmall/work/homogenous/MC_expt_2020-01-30-14-40/expt.txt')\n"
   ]
  },
  {
   "cell_type": "code",
   "execution_count": 11,
   "metadata": {},
   "outputs": [],
   "source": [
    "import simulationFFT\n",
    "#model size\n",
    "nlay,nrow,ncol = (26, 20, 100)\n",
    "delv,delc,delr = (3., 30., 30.)\n",
    "varlist = load_obj(m.MC_file.parent,'varlist_final')\n",
    "\n",
    "\n",
    "it = 1\n",
    "CF_glob = varlist['CF_glob'][it]\n",
    "CF_var = varlist['CF_var'][it]\n",
    "corr_len = varlist['corr_len'][it]\n",
    "corr_len_yx = varlist['corr_len_yx'][it]\n",
    "corr_len_zx = varlist['corr_len_zx'][it]\n",
    "vario_type = varlist['vario_type'][it]\n",
    "lcol = int(corr_len/delr)\n",
    "llay = int(corr_len*corr_len_zx/np.mean(delv))\n",
    "lrow = int(corr_len*corr_len_yx/delc)\n",
    "seed = varlist['seed'][it]\n",
    "\n",
    "cf_mat = simulationFFT.simulFFT(nrow,nlay, ncol,\n",
    "                                 CF_glob,\n",
    "                                 CF_var,\n",
    "                                 vario_type,\n",
    "                                 lrow , llay, lcol,seed=seed)\n",
    "\n",
    "cf_mat[cf_mat > 1.] = 1.\n",
    "cf_mat[cf_mat < 0.] = 0.\n"
   ]
  },
  {
   "cell_type": "code",
   "execution_count": 12,
   "metadata": {},
   "outputs": [
    {
     "data": {
      "text/plain": [
       "<matplotlib.colorbar.Colorbar at 0x11ebc0320>"
      ]
     },
     "execution_count": 12,
     "metadata": {},
     "output_type": "execute_result"
    },
    {
     "data": {
      "image/png": "[encoded data removed]",
      "text/plain": [
       "<Figure size 432x288 with 2 Axes>"
      ]
     },
     "metadata": {
      "needs_background": "light"
     },
     "output_type": "display_data"
    }
   ],
   "source": [
    "plt.imshow(cf_mat[:,0,:])\n",
    "plt.colorbar()"
   ]
  },
  {
   "cell_type": "code",
   "execution_count": null,
   "metadata": {},
   "outputs": [],
   "source": []
  },
  {
   "cell_type": "code",
   "execution_count": 15,
   "metadata": {},
   "outputs": [
    {
     "name": "stdout",
     "output_type": "stream",
     "text": [
      "file 0 of 1\n",
      "Removing 0 files out of 1...\n",
      "it 0\n",
      "i 0\n",
      "saving...\n",
      "...done!\n"
     ]
    }
   ],
   "source": [
    "import hausdorff_from_dir\n",
    "\n",
    "def linear_RP(conc_mat,F=5.8,mTDS=1.4200556641030946,bTDS=332.7093594248108):\n",
    "    Cw = (mTDS*conc_mat*1000 + bTDS)/1e4\n",
    "    return F/Cw\n",
    "\n",
    "\n",
    "def WS_sigma(sigma_f, por = 0.4, CEC=1,B0=4.5e-8, m=1.3):\n",
    "    rho_grain = 2650*1000 #g/m^3\n",
    "#     CEC = 1 #meq/g    1:smect,  .2:Ill,  .02-.09:Kaol\n",
    "#     B0 = 4.78e-8  #m^2/(sV)\n",
    "    F = por**(-m)\n",
    "    Qv = rho_grain*((1-por)/por)*CEC\n",
    "    B = B0*(1-.6*np.exp(-sigma_f/.013))\n",
    "    sigma_b = 1/F*(sigma_f + B*Qv)\n",
    "    return sigma_b,B,Qv\n",
    "\n",
    "\n",
    "def HSU(conc_mat,CF_mat,mTDS=1.4200556641030946,bTDS=332.7093594248108,**kwargs):\n",
    "    #kwargs fed to WS_sigma\n",
    "    Cw = (mTDS*conc_mat*1000 + bTDS)/1e4\n",
    "    sig_bs = WS_sigma(Cw,CEC=0,**kwargs)[0]\n",
    "    sig_bc = WS_sigma(Cw,CEC=1,**kwargs)[0]\n",
    "    return sig_bc*(1 - (3*(1-CF_mat)*(sig_bc-sig_bs))/(3*sig_bc - CF_mat*(sig_bc-sig_bs)))\n",
    "\n",
    "\n",
    "#Make .npy files of concentration\n",
    "import flopy \n",
    "ucnobj = flopy.utils.binaryfile.UcnFile(m.MC_file.parent.joinpath(\n",
    "    'conc1_20200130_1445_totim14400.UCN').as_posix())\n",
    "totims = ucnobj.get_times()[2::20]\n",
    "fnames = hausdorff_from_dir.create_concmat_from_ucndir(m.MC_file.parent,totims=totims)\n",
    "name1 = fnames[0]\n",
    "name2 = fnames[3]\n",
    "\n",
    "conc_mat1 = np.load(m.MC_file.parent.joinpath(name1))\n",
    "conc_mat2 = np.load(m.MC_file.parent.joinpath(name2))"
   ]
  },
  {
   "cell_type": "code",
   "execution_count": 28,
   "metadata": {},
   "outputs": [],
   "source": []
  },
  {
   "cell_type": "markdown",
   "metadata": {},
   "source": [
    "#### Plot an example of workflow"
   ]
  },
  {
   "cell_type": "code",
   "execution_count": 23,
   "metadata": {},
   "outputs": [
    {
     "data": {
      "image/png": "[encoded data removed]",
      "text/plain": [
       "<Figure size 360x468 with 6 Axes>"
      ]
     },
     "metadata": {
      "needs_background": "light"
     },
     "output_type": "display_data"
    }
   ],
   "source": [
    "from mpl_toolkits.axes_grid1 import make_axes_locatable\n",
    "\n",
    "rowslice = 5\n",
    "cmat = conc_mat1[0]\n",
    "# cf_mat = np.random.rand(cmat.shape[0],cmat.shape[1],cmat.shape[2])\n",
    "sig_mat = HSU(cmat,cf_mat,por=.1)\n",
    "\n",
    "f,axs=  plt.subplots(3,1,figsize=(5,6.5))\n",
    "\n",
    "plt.sca(axs.flatten()[0]) \n",
    "ax=plt.gca()\n",
    "grid = plt.imshow(cf_mat[:,rowslice,:])\n",
    "plt.title('Input lithology grid')\n",
    "divider = make_axes_locatable(ax)\n",
    "cax = divider.append_axes(\"right\", size=\"5%\", pad=0.05)\n",
    "cb = plt.colorbar(grid, cax=cax)\n",
    "cb.set_label( 'CF (--)')\n",
    "\n",
    "\n",
    "plt.sca(axs.flatten()[1]) \n",
    "ax=plt.gca()\n",
    "grid =plt.imshow(cmat[:,rowslice,:])\n",
    "plt.title('SWI-simulation result')\n",
    "divider = make_axes_locatable(ax)\n",
    "cax = divider.append_axes(\"right\", size=\"5%\", pad=0.05)\n",
    "cb = plt.colorbar(grid, cax=cax)\n",
    "cb.set_label( 'TDS (g/L)')\n",
    "\n",
    "plt.sca(axs.flatten()[2]) \n",
    "ax=plt.gca()\n",
    "grid = plt.imshow(1/sig_mat[:,rowslice,:],cmap='viridis',norm=LogNorm())\n",
    "plt.title('Bulk resistivity grid')\n",
    "divider = make_axes_locatable(ax)\n",
    "cax = divider.append_axes(\"right\", size=\"5%\", pad=0.05)\n",
    "cb = plt.colorbar(grid, cax=cax)\n",
    "cb.set_ticks((10,100))\n",
    "cb.set_label( '$\\\\rho_{bulk}$ ($\\Omega$-m)')\n",
    "\n",
    "plt.savefig(figdir.joinpath('RP_workflow_time1.png'),bbox_inches='tight',dpi=300)"
   ]
  },
  {
   "cell_type": "markdown",
   "metadata": {},
   "source": [
    "### Adding in AEM simulations"
   ]
  },
  {
   "cell_type": "code",
   "execution_count": 27,
   "metadata": {},
   "outputs": [
    {
     "data": {
      "text/plain": [
       "(1, 26, 20, 100)"
      ]
     },
     "execution_count": 27,
     "metadata": {},
     "output_type": "execute_result"
    }
   ],
   "source": [
    "conc_mat.shape"
   ]
  },
  {
   "cell_type": "code",
   "execution_count": 29,
   "metadata": {},
   "outputs": [],
   "source": [
    "conc_mat =np.concatenate((conc_mat1,conc_mat2),axis=0)"
   ]
  },
  {
   "cell_type": "code",
   "execution_count": 31,
   "metadata": {},
   "outputs": [],
   "source": [
    "%matplotlib inline\n",
    "\n",
    "nlay,nrow,ncol = (conc_mat[0].shape)\n",
    "dx,dy,dz = (30,30,3)\n",
    "Lx,Ly,Lz = (dx*ncol,dy*nrow,dz*nlay)\n",
    "#Mesh\n",
    "n_pad_ocean = 300\n",
    "n_pad_inland = 300\n",
    "n_pad_row = 300\n",
    "\n",
    "n_sounding_x = ncol\n",
    "n_sounding_y = nrow\n",
    "hx = np.ones(ncol+n_pad_ocean+n_pad_inland) * dx\n",
    "hy = np.ones(nrow + 2*n_pad_row) * dy\n",
    "\n",
    "# hz = np.ones(nlay) * delv\n",
    "# hz = np.diff(np.r_[0.,henry_botm])\n",
    "\n",
    "dept_low = np.arange(-75,dz,dz)\n",
    "dept_air = np.arange(dz,50,dz)\n",
    "dept = np.r_[dept_low,dept_air]\n",
    "hz = dz*np.ones_like(dept)\n",
    "x0 = (-n_pad_inland*dx,-n_pad_row*dy,-76)\n",
    "mesh = Mesh.TensorMesh([hx, hy, hz],x0=x0)\n",
    "\n",
    "###Padding\n",
    "#Change from (lay,row,col) to (col,row,lay)\n",
    "rho_transf = 1/HSU(cmat,conc_mat[1],por=.3)\n",
    "#Air padding\n",
    "rho_transf = np.append(rho_transf,np.ones((16,rho_transf.shape[1],rho_transf.shape[2])),axis=0)\n",
    "\n",
    "#Row padding\n",
    "rho_transf = np.append(rho_transf,\n",
    "                       np.tile(rho_transf[:,np.newaxis,-1,:],(1,n_pad_row,1)),\n",
    "                       axis=1)\n",
    "rho_transf = np.append(np.tile(rho_transf[:,np.newaxis,-1,:],(1,n_pad_row,1)),\n",
    "                       rho_transf,\n",
    "                       axis=1)\n",
    "\n",
    "#Ocean padding\n",
    "rho_transf = np.append(rho_transf,\n",
    "                           0.2*np.ones((rho_transf.shape[0],rho_transf.shape[1],n_pad_ocean)),axis=2)\n",
    "\n",
    "\n",
    "\n",
    "#Inland padding\n",
    "rho_transf = np.append(rho_transf[:,:,0].max()*np.ones(\n",
    "                           (rho_transf.shape[0],rho_transf.shape[1],n_pad_inland)),\n",
    "                       rho_transf,\n",
    "                       axis=2)\n",
    "\n",
    "\n",
    "\n",
    "\n",
    "\n",
    "z_air_inds = np.argwhere(mesh.vectorCCz >0)\n",
    "rho_transf[z_air_inds,:,:]=100\n",
    "\n",
    "actv_col_row_lay = np.ones_like(rho_transf,dtype=bool)\n",
    "actv_col_row_lay[z_air_inds,:,:]=False\n",
    "actv_col_row_lay = np.transpose(actv_col_row_lay,(2,1,0)) \n",
    "actv = actv_col_row_lay.flatten(order='F')\n",
    "\n",
    "\n",
    "rho_col_row_lay = np.transpose(rho_transf,(2,1,0)) \n",
    "rho =  rho_col_row_lay.flatten(order='F')\n",
    "\n",
    "# actv = np.ones_like(rho,dtype=bool)\n",
    "# actv_air = actv_col_row_lay_air.flatten()\n",
    "\n",
    "\n",
    "# mesh.plot_3d_slicer(rho,pcolorOpts={\"norm\":LogNorm()})\n",
    "\n",
    "\n",
    "\n",
    "# cb = plt.colorbar(ax=plt.gca())\n",
    "# cb.set_label(r'$\\rho$  $(\\Omega-m)$')\n",
    "# plt.suptitle('2D slice of mesh',fontsize=14)"
   ]
  },
  {
   "cell_type": "code",
   "execution_count": 53,
   "metadata": {},
   "outputs": [
    {
     "name": "stdout",
     "output_type": "stream",
     "text": [
      "125\n"
     ]
    }
   ],
   "source": [
    "#Set source and receiver locations\n",
    "pad_amt = 0\n",
    "xmin, xmax = pad_amt, Lx-pad_amt\n",
    "ymin, ymax = pad_amt, Ly-pad_amt\n",
    "\n",
    "# generate survey\n",
    "x_inds = np.argwhere(np.logical_and(mesh.vectorCCx > xmin, mesh.vectorCCx < xmax))\n",
    "y_inds = np.argwhere(np.logical_and(mesh.vectorCCy > ymin, mesh.vectorCCy < ymax))\n",
    "x = mesh.vectorCCx[x_inds[::4]]\n",
    "y = mesh.vectorCCy[y_inds[::4]]\n",
    "# f_dem = NearestNDInterpolator(dem[:,:2], dem[:,2])\n",
    "xy = Utils.ndgrid(x, y)\n",
    "# z = f_dem(xy)\n",
    "\n",
    "#Source and receiver height\n",
    "z = np.zeros(len(xy))\n",
    "src_height = 30.\n",
    "src_locations = np.c_[xy, z + src_height]\n",
    "rx_locations = np.c_[xy[:,0]+13.25, xy[:,1], z+2.+ src_height]\n",
    "topo = np.c_[xy, z]\n",
    "n_sounding = src_locations.shape[0]\n",
    "print(n_sounding)"
   ]
  },
  {
   "cell_type": "code",
   "execution_count": null,
   "metadata": {},
   "outputs": [],
   "source": []
  },
  {
   "cell_type": "code",
   "execution_count": 74,
   "metadata": {},
   "outputs": [],
   "source": [
    "x_AEMgreaterThan1000 = np.argwhere(xy[:,0]>1000)\n",
    "np.save(Path(aemdir).joinpath('x_AEMgreaterThan1000'),x_AEMgreaterThan1000)"
   ]
  },
  {
   "cell_type": "raw",
   "metadata": {},
   "source": [
    "mesh.writeUBC('mesh.msh')\n",
    "mesh.writeModelUBC('res.res', rho)"
   ]
  },
  {
   "cell_type": "code",
   "execution_count": 54,
   "metadata": {},
   "outputs": [
    {
     "data": {
      "image/png": "[encoded data removed]",
      "text/plain": [
       "<Figure size 720x720 with 1 Axes>"
      ]
     },
     "metadata": {
      "needs_background": "light"
     },
     "output_type": "display_data"
    }
   ],
   "source": [
    "fig = plt.figure(figsize=(10, 10))\n",
    "ax = plt.gca()\n",
    "mesh.plotSlice(rho_col_row_lay, clim=(10, 40), ind=10, ax=ax)\n",
    "ax.plot(src_locations[:,0], src_locations[:,1], 'k.', ms=1)\n",
    "ax.set_aspect(1)"
   ]
  },
  {
   "cell_type": "code",
   "execution_count": 55,
   "metadata": {},
   "outputs": [
    {
     "name": "stdout",
     "output_type": "stream",
     "text": [
      "simpegskytem path:\t /Users/ianpg/Documents/ProjectsLocal/SWIsmall\n"
     ]
    }
   ],
   "source": [
    "#Waveform \n",
    "\n",
    "#Get LM and HM from simpegskytem\n",
    "import simpegskytem\n",
    "from simpegskytem import Utils\n",
    "\n",
    "simpegskytem_path = Path(simpegskytem.__file__).parent.parent.parent\n",
    "print('simpegskytem path:\\t',simpegskytem_path)\n",
    "\n",
    "unit_conversion = 1e-12\n",
    "\n",
    "i_start_hm = 10\n",
    "i_start_lm = 10\n",
    "\n",
    "waveform_hm_312 = np.loadtxt(simpegskytem_path.joinpath('aem-waveform/waveform_hm_312.txt'))\n",
    "waveform_lm_312 = np.loadtxt(simpegskytem_path.joinpath('aem-waveform/waveform_lm_312.txt'))\n",
    "time_input_currents_hm_312 = waveform_hm_312[:,0] \n",
    "input_currents_hm_312 = waveform_hm_312[:,1]\n",
    "time_input_currents_lm_312 = waveform_lm_312[:,0] \n",
    "input_currents_lm_312 = waveform_lm_312[:,1]\n",
    "\n",
    "time_gates = np.loadtxt(simpegskytem_path.joinpath('aem-waveform/time_gates'))\n",
    "GateTimeShift=-2.09E-06\n",
    "MeaTimeDelay=0.000E+00\n",
    "NoGates=28\n",
    "t0_lm_312 = waveform_lm_312[:,0].max()\n",
    "times_lm_312 = (time_gates[:NoGates,0] + GateTimeShift + MeaTimeDelay)[i_start_lm:] - t0_lm_312\n",
    "\n",
    "\n",
    "GateTimeShift=-1.5E-06\n",
    "MeaTimeDelay=3.500E-04\n",
    "NoGates=37\n",
    "t0_hm_312 = waveform_hm_312[:,0].max()\n",
    "times_hm_312 = (time_gates[:NoGates,0] + GateTimeShift + MeaTimeDelay)[i_start_hm:] - t0_hm_312    "
   ]
  },
  {
   "cell_type": "code",
   "execution_count": 56,
   "metadata": {},
   "outputs": [
    {
     "data": {
      "text/plain": [
       "array([1.09700e-05, 1.79800e-05, 2.69700e-05, 3.84700e-05, 5.29700e-05,\n",
       "       7.09700e-05, 9.34600e-05, 1.21460e-04, 1.56960e-04, 2.02460e-04,\n",
       "       2.59460e-04, 3.31460e-04, 4.22460e-04, 5.36460e-04, 6.80460e-04,\n",
       "       8.61960e-04, 1.09076e-03, 1.37876e-03])"
      ]
     },
     "execution_count": 56,
     "metadata": {},
     "output_type": "execute_result"
    }
   ],
   "source": [
    "times_lm_312"
   ]
  },
  {
   "cell_type": "code",
   "execution_count": 57,
   "metadata": {},
   "outputs": [
    {
     "name": "stdout",
     "output_type": "stream",
     "text": [
      ">> Set parameters\n"
     ]
    }
   ],
   "source": [
    "#Make survey and problem (simulation)\n",
    "survey = get_skytem_survey(\n",
    "    topo,\n",
    "    src_locations,\n",
    "    rx_locations,\n",
    "    times_hm_312,\n",
    "    time_input_currents_hm_312,\n",
    "    input_currents_hm_312,\n",
    "    base_frequency=25.,\n",
    "    src_type=\"VMD\",\n",
    "    rx_type=\"dBzdt\",    \n",
    "    moment_type=\"dual\",        \n",
    "    time_dual_moment=times_lm_312,\n",
    "    time_input_currents_dual_moment=time_input_currents_lm_312,\n",
    "    input_currents_dual_moment=input_currents_lm_312,\n",
    "    base_frequency_dual_moment=210.,\n",
    "    wave_type=\"general\",    \n",
    "    field_type=\"secondary\",    \n",
    ")\n",
    "\n",
    "simulation_workdir = m.MC_file.parent.joinpath('tmp')\n",
    "try:\n",
    "    simulation_workdir.mkdir()\n",
    "except:\n",
    "    pass\n",
    "\n",
    "simulation = GlobalSkyTEM(\n",
    "    mesh, \n",
    "    sigma=1./rho, \n",
    "    actv=actv, \n",
    "    parallel_option='multiprocess',\n",
    "    n_cpu=4,\n",
    "    work_dir=simulation_workdir.as_posix()\n",
    ")\n",
    "\n",
    "simulation.pair(survey)"
   ]
  },
  {
   "cell_type": "code",
   "execution_count": 58,
   "metadata": {},
   "outputs": [
    {
     "name": "stdout",
     "output_type": "stream",
     "text": [
      ">> Set parameters\n"
     ]
    }
   ],
   "source": [
    "survey = get_skytem_survey(\n",
    "    topo,\n",
    "    src_locations,\n",
    "    rx_locations,\n",
    "    times_hm_312,\n",
    "    time_input_currents_hm_312,\n",
    "    input_currents_hm_312,\n",
    "    base_frequency=25.,\n",
    "    src_type=\"VMD\",\n",
    "    rx_type=\"dBzdt\",    \n",
    "    moment_type=\"dual\",        \n",
    "    time_dual_moment=times_lm_312,\n",
    "    time_input_currents_dual_moment=time_input_currents_lm_312,\n",
    "    input_currents_dual_moment=input_currents_lm_312,\n",
    "    base_frequency_dual_moment=210.,\n",
    "    wave_type=\"general\",    \n",
    "    field_type=\"secondary\",    \n",
    ")"
   ]
  },
  {
   "cell_type": "raw",
   "metadata": {},
   "source": [
    "\n",
    "z_src = 30\n",
    "x_rx = 13.25\n",
    "z_offset = 2.\n",
    "rxloc = np.array([x_rx, 0., z_src+z_offset])\n",
    "srcloc = np.array([0., 0., z_src])\n",
    "times = np.logspace(np.log10(1e-6), np.log10(0.045), 21)\n",
    "rx = EM.TDEM.Rx.Point_dbdt(rxloc, [], 'z')\n",
    "src = EM.TDEM.Src.MagDipole([rx], waveform=EM.TDEM.Src.StepOffWaveform(), loc=srcloc)\n",
    "survey = EM.TDEM.Survey([src])\n",
    "\n",
    "\n",
    "survey = GlobalAEMSurveyTD(\n",
    "        topo = topo,\n",
    "        src_locations = src_locations,\n",
    "        rx_locations = rx_locations,\n",
    "        src_type = EM.TDEM.Src.MagDipole([rx], waveform=EM.TDEM.Src.StepOffWaveform(), loc=srcloc),\n",
    "        rx_type = \"dBzdt\",\n",
    "        field_type = 'secondary',\n",
    "        time = [times for i in range(n_sounding)],\n",
    "        wave_type = EM.TDEM.Src.StepOffWaveform(),\n",
    "        moment_type = 'single',\n",
    "        time_input_currents = time_input_currents_list,\n",
    "        input_currents = input_currents_list,\n",
    "        base_frequency = 25\n",
    ")"
   ]
  },
  {
   "cell_type": "code",
   "execution_count": 40,
   "metadata": {},
   "outputs": [
    {
     "name": "stderr",
     "output_type": "stream",
     "text": [
      "Process ForkPoolWorker-4:\n",
      "Process ForkPoolWorker-3:\n",
      "Traceback (most recent call last):\n",
      "Traceback (most recent call last):\n",
      "  File \"/Users/ianpg/anaconda/envs/SWIenv/lib/python3.6/site-packages/multiprocess/process.py\", line 258, in _bootstrap\n",
      "    self.run()\n",
      "  File \"/Users/ianpg/anaconda/envs/SWIenv/lib/python3.6/site-packages/multiprocess/process.py\", line 258, in _bootstrap\n",
      "    self.run()\n",
      "  File \"/Users/ianpg/anaconda/envs/SWIenv/lib/python3.6/site-packages/multiprocess/process.py\", line 93, in run\n",
      "    self._target(*self._args, **self._kwargs)\n",
      "  File \"/Users/ianpg/anaconda/envs/SWIenv/lib/python3.6/site-packages/multiprocess/process.py\", line 93, in run\n",
      "    self._target(*self._args, **self._kwargs)\n",
      "  File \"/Users/ianpg/anaconda/envs/SWIenv/lib/python3.6/site-packages/multiprocess/pool.py\", line 108, in worker\n",
      "    task = get()\n",
      "  File \"/Users/ianpg/anaconda/envs/SWIenv/lib/python3.6/site-packages/multiprocess/pool.py\", line 108, in worker\n",
      "    task = get()\n",
      "  File \"/Users/ianpg/anaconda/envs/SWIenv/lib/python3.6/site-packages/multiprocess/queues.py\", line 337, in get\n",
      "    with self._rlock:\n",
      "  File \"/Users/ianpg/anaconda/envs/SWIenv/lib/python3.6/site-packages/multiprocess/queues.py\", line 337, in get\n",
      "    with self._rlock:\n",
      "  File \"/Users/ianpg/anaconda/envs/SWIenv/lib/python3.6/site-packages/multiprocess/synchronize.py\", line 102, in __enter__\n",
      "    return self._semlock.__enter__()\n",
      "  File \"/Users/ianpg/anaconda/envs/SWIenv/lib/python3.6/site-packages/multiprocess/synchronize.py\", line 102, in __enter__\n",
      "    return self._semlock.__enter__()\n",
      "KeyboardInterrupt\n",
      "KeyboardInterrupt\n",
      "Process ForkPoolWorker-5:\n",
      "Traceback (most recent call last):\n",
      "  File \"/Users/ianpg/anaconda/envs/SWIenv/lib/python3.6/site-packages/multiprocess/process.py\", line 258, in _bootstrap\n",
      "    self.run()\n",
      "  File \"/Users/ianpg/anaconda/envs/SWIenv/lib/python3.6/site-packages/multiprocess/process.py\", line 93, in run\n",
      "    self._target(*self._args, **self._kwargs)\n",
      "  File \"/Users/ianpg/anaconda/envs/SWIenv/lib/python3.6/site-packages/multiprocess/pool.py\", line 108, in worker\n",
      "    task = get()\n",
      "  File \"/Users/ianpg/anaconda/envs/SWIenv/lib/python3.6/site-packages/multiprocess/queues.py\", line 340, in get\n",
      "    return _ForkingPickler.loads(res)\n",
      "  File \"/Users/ianpg/anaconda/envs/SWIenv/lib/python3.6/site-packages/dill/_dill.py\", line 317, in loads\n",
      "    return load(file, ignore)\n",
      "  File \"/Users/ianpg/anaconda/envs/SWIenv/lib/python3.6/site-packages/dill/_dill.py\", line 305, in load\n",
      "    obj = pik.load()\n",
      "_pickle.UnpicklingError: invalid load key, '\\x00'.\n",
      "Process ForkPoolWorker-2:\n",
      "Traceback (most recent call last):\n",
      "  File \"/Users/ianpg/anaconda/envs/SWIenv/lib/python3.6/site-packages/multiprocess/process.py\", line 258, in _bootstrap\n",
      "    self.run()\n",
      "  File \"/Users/ianpg/anaconda/envs/SWIenv/lib/python3.6/site-packages/multiprocess/process.py\", line 93, in run\n",
      "    self._target(*self._args, **self._kwargs)\n",
      "  File \"/Users/ianpg/anaconda/envs/SWIenv/lib/python3.6/site-packages/multiprocess/pool.py\", line 108, in worker\n",
      "    task = get()\n",
      "Process ForkPoolWorker-8:\n",
      "  File \"/Users/ianpg/anaconda/envs/SWIenv/lib/python3.6/site-packages/multiprocess/queues.py\", line 340, in get\n",
      "    return _ForkingPickler.loads(res)\n"
     ]
    },
    {
     "ename": "KeyboardInterrupt",
     "evalue": "",
     "output_type": "error",
     "traceback": [
      "\u001b[0;31m---------------------------------------------------------------------------\u001b[0m",
      "\u001b[0;31mKeyboardInterrupt\u001b[0m                         Traceback (most recent call last)",
      "\u001b[0;32m<timed eval>\u001b[0m in \u001b[0;36m<module>\u001b[0;34m\u001b[0m\n",
      "\u001b[0;32m~/Documents/ProjectsLocal/SWIsmall/notebook/simpegskytem/GlobalTDEM.py\u001b[0m in \u001b[0;36mwrite_inputs_on_disk_pool\u001b[0;34m(self)\u001b[0m\n\u001b[1;32m    241\u001b[0m             out = pool.map(\n\u001b[1;32m    242\u001b[0m                 \u001b[0mself\u001b[0m\u001b[0;34m.\u001b[0m\u001b[0mwrite_inputs_on_disk\u001b[0m\u001b[0;34m,\u001b[0m\u001b[0;34m\u001b[0m\u001b[0;34m\u001b[0m\u001b[0m\n\u001b[0;32m--> 243\u001b[0;31m                 \u001b[0;34m[\u001b[0m\u001b[0mi_src\u001b[0m \u001b[0;32mfor\u001b[0m \u001b[0mi_src\u001b[0m \u001b[0;32min\u001b[0m \u001b[0mrange\u001b[0m\u001b[0;34m(\u001b[0m\u001b[0mn_src\u001b[0m\u001b[0;34m)\u001b[0m\u001b[0;34m]\u001b[0m\u001b[0;34m\u001b[0m\u001b[0;34m\u001b[0m\u001b[0m\n\u001b[0m\u001b[1;32m    244\u001b[0m             )\n\u001b[1;32m    245\u001b[0m             \u001b[0mpool\u001b[0m\u001b[0;34m.\u001b[0m\u001b[0mclose\u001b[0m\u001b[0;34m(\u001b[0m\u001b[0;34m)\u001b[0m\u001b[0;34m\u001b[0m\u001b[0;34m\u001b[0m\u001b[0m\n",
      "\u001b[0;32m~/anaconda/envs/SWIenv/lib/python3.6/site-packages/multiprocess/pool.py\u001b[0m in \u001b[0;36mmap\u001b[0;34m(self, func, iterable, chunksize)\u001b[0m\n\u001b[1;32m    264\u001b[0m         \u001b[0;32min\u001b[0m \u001b[0ma\u001b[0m \u001b[0mlist\u001b[0m \u001b[0mthat\u001b[0m \u001b[0;32mis\u001b[0m \u001b[0mreturned\u001b[0m\u001b[0;34m.\u001b[0m\u001b[0;34m\u001b[0m\u001b[0;34m\u001b[0m\u001b[0m\n\u001b[1;32m    265\u001b[0m         '''\n\u001b[0;32m--> 266\u001b[0;31m         \u001b[0;32mreturn\u001b[0m \u001b[0mself\u001b[0m\u001b[0;34m.\u001b[0m\u001b[0m_map_async\u001b[0m\u001b[0;34m(\u001b[0m\u001b[0mfunc\u001b[0m\u001b[0;34m,\u001b[0m \u001b[0miterable\u001b[0m\u001b[0;34m,\u001b[0m \u001b[0mmapstar\u001b[0m\u001b[0;34m,\u001b[0m \u001b[0mchunksize\u001b[0m\u001b[0;34m)\u001b[0m\u001b[0;34m.\u001b[0m\u001b[0mget\u001b[0m\u001b[0;34m(\u001b[0m\u001b[0;34m)\u001b[0m\u001b[0;34m\u001b[0m\u001b[0;34m\u001b[0m\u001b[0m\n\u001b[0m\u001b[1;32m    267\u001b[0m \u001b[0;34m\u001b[0m\u001b[0m\n\u001b[1;32m    268\u001b[0m     \u001b[0;32mdef\u001b[0m \u001b[0mstarmap\u001b[0m\u001b[0;34m(\u001b[0m\u001b[0mself\u001b[0m\u001b[0;34m,\u001b[0m \u001b[0mfunc\u001b[0m\u001b[0;34m,\u001b[0m \u001b[0miterable\u001b[0m\u001b[0;34m,\u001b[0m \u001b[0mchunksize\u001b[0m\u001b[0;34m=\u001b[0m\u001b[0;32mNone\u001b[0m\u001b[0;34m)\u001b[0m\u001b[0;34m:\u001b[0m\u001b[0;34m\u001b[0m\u001b[0;34m\u001b[0m\u001b[0m\n",
      "\u001b[0;32m~/anaconda/envs/SWIenv/lib/python3.6/site-packages/multiprocess/pool.py\u001b[0m in \u001b[0;36mget\u001b[0;34m(self, timeout)\u001b[0m\n\u001b[1;32m    636\u001b[0m \u001b[0;34m\u001b[0m\u001b[0m\n\u001b[1;32m    637\u001b[0m     \u001b[0;32mdef\u001b[0m \u001b[0mget\u001b[0m\u001b[0;34m(\u001b[0m\u001b[0mself\u001b[0m\u001b[0;34m,\u001b[0m \u001b[0mtimeout\u001b[0m\u001b[0;34m=\u001b[0m\u001b[0;32mNone\u001b[0m\u001b[0;34m)\u001b[0m\u001b[0;34m:\u001b[0m\u001b[0;34m\u001b[0m\u001b[0;34m\u001b[0m\u001b[0m\n\u001b[0;32m--> 638\u001b[0;31m         \u001b[0mself\u001b[0m\u001b[0;34m.\u001b[0m\u001b[0mwait\u001b[0m\u001b[0;34m(\u001b[0m\u001b[0mtimeout\u001b[0m\u001b[0;34m)\u001b[0m\u001b[0;34m\u001b[0m\u001b[0;34m\u001b[0m\u001b[0m\n\u001b[0m\u001b[1;32m    639\u001b[0m         \u001b[0;32mif\u001b[0m \u001b[0;32mnot\u001b[0m \u001b[0mself\u001b[0m\u001b[0;34m.\u001b[0m\u001b[0mready\u001b[0m\u001b[0;34m(\u001b[0m\u001b[0;34m)\u001b[0m\u001b[0;34m:\u001b[0m\u001b[0;34m\u001b[0m\u001b[0;34m\u001b[0m\u001b[0m\n\u001b[1;32m    640\u001b[0m             \u001b[0;32mraise\u001b[0m \u001b[0mTimeoutError\u001b[0m\u001b[0;34m\u001b[0m\u001b[0;34m\u001b[0m\u001b[0m\n",
      "\u001b[0;32m~/anaconda/envs/SWIenv/lib/python3.6/site-packages/multiprocess/pool.py\u001b[0m in \u001b[0;36mwait\u001b[0;34m(self, timeout)\u001b[0m\n\u001b[1;32m    633\u001b[0m \u001b[0;34m\u001b[0m\u001b[0m\n\u001b[1;32m    634\u001b[0m     \u001b[0;32mdef\u001b[0m \u001b[0mwait\u001b[0m\u001b[0;34m(\u001b[0m\u001b[0mself\u001b[0m\u001b[0;34m,\u001b[0m \u001b[0mtimeout\u001b[0m\u001b[0;34m=\u001b[0m\u001b[0;32mNone\u001b[0m\u001b[0;34m)\u001b[0m\u001b[0;34m:\u001b[0m\u001b[0;34m\u001b[0m\u001b[0;34m\u001b[0m\u001b[0m\n\u001b[0;32m--> 635\u001b[0;31m         \u001b[0mself\u001b[0m\u001b[0;34m.\u001b[0m\u001b[0m_event\u001b[0m\u001b[0;34m.\u001b[0m\u001b[0mwait\u001b[0m\u001b[0;34m(\u001b[0m\u001b[0mtimeout\u001b[0m\u001b[0;34m)\u001b[0m\u001b[0;34m\u001b[0m\u001b[0;34m\u001b[0m\u001b[0m\n\u001b[0m\u001b[1;32m    636\u001b[0m \u001b[0;34m\u001b[0m\u001b[0m\n\u001b[1;32m    637\u001b[0m     \u001b[0;32mdef\u001b[0m \u001b[0mget\u001b[0m\u001b[0;34m(\u001b[0m\u001b[0mself\u001b[0m\u001b[0;34m,\u001b[0m \u001b[0mtimeout\u001b[0m\u001b[0;34m=\u001b[0m\u001b[0;32mNone\u001b[0m\u001b[0;34m)\u001b[0m\u001b[0;34m:\u001b[0m\u001b[0;34m\u001b[0m\u001b[0;34m\u001b[0m\u001b[0m\n",
      "\u001b[0;32m~/anaconda/envs/SWIenv/lib/python3.6/threading.py\u001b[0m in \u001b[0;36mwait\u001b[0;34m(self, timeout)\u001b[0m\n\u001b[1;32m    549\u001b[0m             \u001b[0msignaled\u001b[0m \u001b[0;34m=\u001b[0m \u001b[0mself\u001b[0m\u001b[0;34m.\u001b[0m\u001b[0m_flag\u001b[0m\u001b[0;34m\u001b[0m\u001b[0;34m\u001b[0m\u001b[0m\n\u001b[1;32m    550\u001b[0m             \u001b[0;32mif\u001b[0m \u001b[0;32mnot\u001b[0m \u001b[0msignaled\u001b[0m\u001b[0;34m:\u001b[0m\u001b[0;34m\u001b[0m\u001b[0;34m\u001b[0m\u001b[0m\n\u001b[0;32m--> 551\u001b[0;31m                 \u001b[0msignaled\u001b[0m \u001b[0;34m=\u001b[0m \u001b[0mself\u001b[0m\u001b[0;34m.\u001b[0m\u001b[0m_cond\u001b[0m\u001b[0;34m.\u001b[0m\u001b[0mwait\u001b[0m\u001b[0;34m(\u001b[0m\u001b[0mtimeout\u001b[0m\u001b[0;34m)\u001b[0m\u001b[0;34m\u001b[0m\u001b[0;34m\u001b[0m\u001b[0m\n\u001b[0m\u001b[1;32m    552\u001b[0m             \u001b[0;32mreturn\u001b[0m \u001b[0msignaled\u001b[0m\u001b[0;34m\u001b[0m\u001b[0;34m\u001b[0m\u001b[0m\n\u001b[1;32m    553\u001b[0m \u001b[0;34m\u001b[0m\u001b[0m\n",
      "\u001b[0;32m~/anaconda/envs/SWIenv/lib/python3.6/threading.py\u001b[0m in \u001b[0;36mwait\u001b[0;34m(self, timeout)\u001b[0m\n\u001b[1;32m    293\u001b[0m         \u001b[0;32mtry\u001b[0m\u001b[0;34m:\u001b[0m    \u001b[0;31m# restore state no matter what (e.g., KeyboardInterrupt)\u001b[0m\u001b[0;34m\u001b[0m\u001b[0;34m\u001b[0m\u001b[0m\n\u001b[1;32m    294\u001b[0m             \u001b[0;32mif\u001b[0m \u001b[0mtimeout\u001b[0m \u001b[0;32mis\u001b[0m \u001b[0;32mNone\u001b[0m\u001b[0;34m:\u001b[0m\u001b[0;34m\u001b[0m\u001b[0;34m\u001b[0m\u001b[0m\n\u001b[0;32m--> 295\u001b[0;31m                 \u001b[0mwaiter\u001b[0m\u001b[0;34m.\u001b[0m\u001b[0macquire\u001b[0m\u001b[0;34m(\u001b[0m\u001b[0;34m)\u001b[0m\u001b[0;34m\u001b[0m\u001b[0;34m\u001b[0m\u001b[0m\n\u001b[0m\u001b[1;32m    296\u001b[0m                 \u001b[0mgotit\u001b[0m \u001b[0;34m=\u001b[0m \u001b[0;32mTrue\u001b[0m\u001b[0;34m\u001b[0m\u001b[0;34m\u001b[0m\u001b[0m\n\u001b[1;32m    297\u001b[0m             \u001b[0;32melse\u001b[0m\u001b[0;34m:\u001b[0m\u001b[0;34m\u001b[0m\u001b[0;34m\u001b[0m\u001b[0m\n",
      "\u001b[0;31mKeyboardInterrupt\u001b[0m: "
     ]
    },
    {
     "name": "stderr",
     "output_type": "stream",
     "text": [
      "Traceback (most recent call last):\n",
      "  File \"/Users/ianpg/anaconda/envs/SWIenv/lib/python3.6/site-packages/multiprocess/process.py\", line 258, in _bootstrap\n",
      "    self.run()\n",
      "  File \"/Users/ianpg/anaconda/envs/SWIenv/lib/python3.6/site-packages/multiprocess/process.py\", line 93, in run\n",
      "    self._target(*self._args, **self._kwargs)\n",
      "  File \"/Users/ianpg/anaconda/envs/SWIenv/lib/python3.6/site-packages/multiprocess/pool.py\", line 108, in worker\n",
      "    task = get()\n",
      "  File \"/Users/ianpg/anaconda/envs/SWIenv/lib/python3.6/site-packages/multiprocess/queues.py\", line 340, in get\n",
      "    return _ForkingPickler.loads(res)\n",
      "Process ForkPoolWorker-1:\n",
      "  File \"/Users/ianpg/anaconda/envs/SWIenv/lib/python3.6/site-packages/dill/_dill.py\", line 317, in loads\n",
      "    return load(file, ignore)\n",
      "  File \"/Users/ianpg/anaconda/envs/SWIenv/lib/python3.6/site-packages/dill/_dill.py\", line 305, in load\n",
      "    obj = pik.load()\n",
      "_pickle.UnpicklingError: invalid load key, '\\x00'.\n",
      "Traceback (most recent call last):\n",
      "  File \"/Users/ianpg/anaconda/envs/SWIenv/lib/python3.6/site-packages/multiprocess/process.py\", line 258, in _bootstrap\n",
      "    self.run()\n",
      "  File \"/Users/ianpg/anaconda/envs/SWIenv/lib/python3.6/site-packages/multiprocess/process.py\", line 93, in run\n",
      "    self._target(*self._args, **self._kwargs)\n",
      "  File \"/Users/ianpg/anaconda/envs/SWIenv/lib/python3.6/site-packages/multiprocess/pool.py\", line 108, in worker\n",
      "    task = get()\n",
      "  File \"/Users/ianpg/anaconda/envs/SWIenv/lib/python3.6/site-packages/multiprocess/queues.py\", line 338, in get\n",
      "    res = self._reader.recv_bytes()\n",
      "  File \"/Users/ianpg/anaconda/envs/SWIenv/lib/python3.6/site-packages/multiprocess/connection.py\", line 219, in recv_bytes\n",
      "    buf = self._recv_bytes(maxlength)\n",
      "  File \"/Users/ianpg/anaconda/envs/SWIenv/lib/python3.6/site-packages/multiprocess/connection.py\", line 414, in _recv_bytes\n",
      "    return self._recv(size)\n",
      "  File \"/Users/ianpg/anaconda/envs/SWIenv/lib/python3.6/site-packages/multiprocess/connection.py\", line 382, in _recv\n",
      "    chunk = read(handle, remaining)\n",
      "KeyboardInterrupt\n",
      "Process ForkPoolWorker-10:\n",
      "Traceback (most recent call last):\n",
      "  File \"/Users/ianpg/anaconda/envs/SWIenv/lib/python3.6/site-packages/multiprocess/process.py\", line 258, in _bootstrap\n",
      "    self.run()\n",
      "  File \"/Users/ianpg/anaconda/envs/SWIenv/lib/python3.6/site-packages/multiprocess/process.py\", line 93, in run\n",
      "    self._target(*self._args, **self._kwargs)\n",
      "  File \"/Users/ianpg/anaconda/envs/SWIenv/lib/python3.6/site-packages/multiprocess/pool.py\", line 108, in worker\n",
      "    task = get()\n",
      "  File \"/Users/ianpg/anaconda/envs/SWIenv/lib/python3.6/site-packages/multiprocess/queues.py\", line 340, in get\n",
      "    return _ForkingPickler.loads(res)\n",
      "  File \"/Users/ianpg/anaconda/envs/SWIenv/lib/python3.6/site-packages/dill/_dill.py\", line 317, in loads\n",
      "    return load(file, ignore)\n",
      "  File \"/Users/ianpg/anaconda/envs/SWIenv/lib/python3.6/site-packages/dill/_dill.py\", line 317, in loads\n",
      "    return load(file, ignore)\n",
      "  File \"/Users/ianpg/anaconda/envs/SWIenv/lib/python3.6/site-packages/dill/_dill.py\", line 305, in load\n",
      "    obj = pik.load()\n",
      "_pickle.UnpicklingError: invalid load key, '\\x00'.\n",
      "  File \"/Users/ianpg/anaconda/envs/SWIenv/lib/python3.6/site-packages/dill/_dill.py\", line 305, in load\n",
      "    obj = pik.load()\n",
      "_pickle.UnpicklingError: invalid load key, '\\x00'.\n",
      "Process ForkPoolWorker-12:\n",
      "Traceback (most recent call last):\n",
      "  File \"/Users/ianpg/anaconda/envs/SWIenv/lib/python3.6/site-packages/multiprocess/process.py\", line 258, in _bootstrap\n",
      "    self.run()\n",
      "  File \"/Users/ianpg/anaconda/envs/SWIenv/lib/python3.6/site-packages/multiprocess/process.py\", line 93, in run\n",
      "    self._target(*self._args, **self._kwargs)\n",
      "  File \"/Users/ianpg/anaconda/envs/SWIenv/lib/python3.6/site-packages/multiprocess/pool.py\", line 108, in worker\n",
      "    task = get()\n",
      "  File \"/Users/ianpg/anaconda/envs/SWIenv/lib/python3.6/site-packages/multiprocess/queues.py\", line 340, in get\n",
      "    return _ForkingPickler.loads(res)\n",
      "  File \"/Users/ianpg/anaconda/envs/SWIenv/lib/python3.6/site-packages/dill/_dill.py\", line 317, in loads\n",
      "    return load(file, ignore)\n",
      "  File \"/Users/ianpg/anaconda/envs/SWIenv/lib/python3.6/site-packages/dill/_dill.py\", line 305, in load\n",
      "    obj = pik.load()\n",
      "_pickle.UnpicklingError: invalid load key, '\\x01'.\n"
     ]
    }
   ],
   "source": [
    "%time simulation.write_inputs_on_disk_pool()"
   ]
  },
  {
   "cell_type": "code",
   "execution_count": 88,
   "metadata": {},
   "outputs": [
    {
     "name": "stderr",
     "output_type": "stream",
     "text": [
      "Process ForkPoolWorker-6:\n",
      "Process ForkPoolWorker-8:\n",
      "Process ForkPoolWorker-7:\n",
      "Traceback (most recent call last):\n",
      "Traceback (most recent call last):\n",
      "Traceback (most recent call last):\n",
      "  File \"/Users/ianpg/anaconda/envs/SWIenv/lib/python3.6/site-packages/multiprocess/process.py\", line 258, in _bootstrap\n",
      "    self.run()\n",
      "  File \"/Users/ianpg/anaconda/envs/SWIenv/lib/python3.6/site-packages/multiprocess/process.py\", line 258, in _bootstrap\n",
      "    self.run()\n",
      "  File \"/Users/ianpg/anaconda/envs/SWIenv/lib/python3.6/site-packages/multiprocess/process.py\", line 258, in _bootstrap\n",
      "    self.run()\n",
      "  File \"/Users/ianpg/anaconda/envs/SWIenv/lib/python3.6/site-packages/multiprocess/process.py\", line 93, in run\n",
      "    self._target(*self._args, **self._kwargs)\n",
      "  File \"/Users/ianpg/anaconda/envs/SWIenv/lib/python3.6/site-packages/multiprocess/process.py\", line 93, in run\n",
      "    self._target(*self._args, **self._kwargs)\n",
      "  File \"/Users/ianpg/anaconda/envs/SWIenv/lib/python3.6/site-packages/multiprocess/pool.py\", line 108, in worker\n",
      "    task = get()\n",
      "  File \"/Users/ianpg/anaconda/envs/SWIenv/lib/python3.6/site-packages/multiprocess/process.py\", line 93, in run\n",
      "    self._target(*self._args, **self._kwargs)\n",
      "  File \"/Users/ianpg/anaconda/envs/SWIenv/lib/python3.6/site-packages/multiprocess/queues.py\", line 337, in get\n",
      "    with self._rlock:\n",
      "  File \"/Users/ianpg/anaconda/envs/SWIenv/lib/python3.6/site-packages/multiprocess/pool.py\", line 108, in worker\n",
      "    task = get()\n",
      "  File \"/Users/ianpg/anaconda/envs/SWIenv/lib/python3.6/site-packages/multiprocess/pool.py\", line 108, in worker\n",
      "    task = get()\n",
      "  File \"/Users/ianpg/anaconda/envs/SWIenv/lib/python3.6/site-packages/multiprocess/queues.py\", line 337, in get\n",
      "    with self._rlock:\n",
      "  File \"/Users/ianpg/anaconda/envs/SWIenv/lib/python3.6/site-packages/multiprocess/queues.py\", line 337, in get\n",
      "    with self._rlock:\n",
      "  File \"/Users/ianpg/anaconda/envs/SWIenv/lib/python3.6/site-packages/multiprocess/synchronize.py\", line 102, in __enter__\n",
      "    return self._semlock.__enter__()\n",
      "  File \"/Users/ianpg/anaconda/envs/SWIenv/lib/python3.6/site-packages/multiprocess/synchronize.py\", line 102, in __enter__\n",
      "    return self._semlock.__enter__()\n",
      "  File \"/Users/ianpg/anaconda/envs/SWIenv/lib/python3.6/site-packages/multiprocess/synchronize.py\", line 102, in __enter__\n",
      "    return self._semlock.__enter__()\n",
      "KeyboardInterrupt\n",
      "KeyboardInterrupt\n",
      "KeyboardInterrupt\n"
     ]
    },
    {
     "ename": "KeyboardInterrupt",
     "evalue": "",
     "output_type": "error",
     "traceback": [
      "\u001b[0;31m---------------------------------------------------------------------------\u001b[0m",
      "\u001b[0;31mKeyboardInterrupt\u001b[0m                         Traceback (most recent call last)",
      "\u001b[0;32m<timed exec>\u001b[0m in \u001b[0;36m<module>\u001b[0;34m\u001b[0m\n",
      "\u001b[0;32m~/Documents/ProjectsLocal/kang-2019-3D-aem/kang-2019-3D-aem/codes/simpegskytem/GlobalTDEM.py\u001b[0m in \u001b[0;36mforward\u001b[0;34m(self, m)\u001b[0m\n\u001b[1;32m    264\u001b[0m             results = pool.map(\n\u001b[1;32m    265\u001b[0m                 \u001b[0mrun_simulation_skytem\u001b[0m\u001b[0;34m,\u001b[0m\u001b[0;34m\u001b[0m\u001b[0;34m\u001b[0m\u001b[0m\n\u001b[0;32m--> 266\u001b[0;31m                 \u001b[0;34m[\u001b[0m\u001b[0;34m(\u001b[0m\u001b[0mi_src\u001b[0m\u001b[0;34m,\u001b[0m \u001b[0mself\u001b[0m\u001b[0;34m.\u001b[0m\u001b[0mwork_dir\u001b[0m\u001b[0;34m,\u001b[0m \u001b[0mself\u001b[0m\u001b[0;34m.\u001b[0m\u001b[0mn_thread\u001b[0m\u001b[0;34m)\u001b[0m \u001b[0;32mfor\u001b[0m \u001b[0mi_src\u001b[0m \u001b[0;32min\u001b[0m \u001b[0mrange\u001b[0m\u001b[0;34m(\u001b[0m\u001b[0mself\u001b[0m\u001b[0;34m.\u001b[0m\u001b[0mn_sounding\u001b[0m\u001b[0;34m)\u001b[0m\u001b[0;34m]\u001b[0m\u001b[0;34m\u001b[0m\u001b[0;34m\u001b[0m\u001b[0m\n\u001b[0m\u001b[1;32m    267\u001b[0m             )\n\u001b[1;32m    268\u001b[0m             \u001b[0mpool\u001b[0m\u001b[0;34m.\u001b[0m\u001b[0mclose\u001b[0m\u001b[0;34m(\u001b[0m\u001b[0;34m)\u001b[0m\u001b[0;34m\u001b[0m\u001b[0;34m\u001b[0m\u001b[0m\n",
      "\u001b[0;32m~/anaconda/envs/SWIenv/lib/python3.6/site-packages/multiprocess/pool.py\u001b[0m in \u001b[0;36mmap\u001b[0;34m(self, func, iterable, chunksize)\u001b[0m\n\u001b[1;32m    264\u001b[0m         \u001b[0;32min\u001b[0m \u001b[0ma\u001b[0m \u001b[0mlist\u001b[0m \u001b[0mthat\u001b[0m \u001b[0;32mis\u001b[0m \u001b[0mreturned\u001b[0m\u001b[0;34m.\u001b[0m\u001b[0;34m\u001b[0m\u001b[0;34m\u001b[0m\u001b[0m\n\u001b[1;32m    265\u001b[0m         '''\n\u001b[0;32m--> 266\u001b[0;31m         \u001b[0;32mreturn\u001b[0m \u001b[0mself\u001b[0m\u001b[0;34m.\u001b[0m\u001b[0m_map_async\u001b[0m\u001b[0;34m(\u001b[0m\u001b[0mfunc\u001b[0m\u001b[0;34m,\u001b[0m \u001b[0miterable\u001b[0m\u001b[0;34m,\u001b[0m \u001b[0mmapstar\u001b[0m\u001b[0;34m,\u001b[0m \u001b[0mchunksize\u001b[0m\u001b[0;34m)\u001b[0m\u001b[0;34m.\u001b[0m\u001b[0mget\u001b[0m\u001b[0;34m(\u001b[0m\u001b[0;34m)\u001b[0m\u001b[0;34m\u001b[0m\u001b[0;34m\u001b[0m\u001b[0m\n\u001b[0m\u001b[1;32m    267\u001b[0m \u001b[0;34m\u001b[0m\u001b[0m\n\u001b[1;32m    268\u001b[0m     \u001b[0;32mdef\u001b[0m \u001b[0mstarmap\u001b[0m\u001b[0;34m(\u001b[0m\u001b[0mself\u001b[0m\u001b[0;34m,\u001b[0m \u001b[0mfunc\u001b[0m\u001b[0;34m,\u001b[0m \u001b[0miterable\u001b[0m\u001b[0;34m,\u001b[0m \u001b[0mchunksize\u001b[0m\u001b[0;34m=\u001b[0m\u001b[0;32mNone\u001b[0m\u001b[0;34m)\u001b[0m\u001b[0;34m:\u001b[0m\u001b[0;34m\u001b[0m\u001b[0;34m\u001b[0m\u001b[0m\n",
      "\u001b[0;32m~/anaconda/envs/SWIenv/lib/python3.6/site-packages/multiprocess/pool.py\u001b[0m in \u001b[0;36mget\u001b[0;34m(self, timeout)\u001b[0m\n\u001b[1;32m    636\u001b[0m \u001b[0;34m\u001b[0m\u001b[0m\n\u001b[1;32m    637\u001b[0m     \u001b[0;32mdef\u001b[0m \u001b[0mget\u001b[0m\u001b[0;34m(\u001b[0m\u001b[0mself\u001b[0m\u001b[0;34m,\u001b[0m \u001b[0mtimeout\u001b[0m\u001b[0;34m=\u001b[0m\u001b[0;32mNone\u001b[0m\u001b[0;34m)\u001b[0m\u001b[0;34m:\u001b[0m\u001b[0;34m\u001b[0m\u001b[0;34m\u001b[0m\u001b[0m\n\u001b[0;32m--> 638\u001b[0;31m         \u001b[0mself\u001b[0m\u001b[0;34m.\u001b[0m\u001b[0mwait\u001b[0m\u001b[0;34m(\u001b[0m\u001b[0mtimeout\u001b[0m\u001b[0;34m)\u001b[0m\u001b[0;34m\u001b[0m\u001b[0;34m\u001b[0m\u001b[0m\n\u001b[0m\u001b[1;32m    639\u001b[0m         \u001b[0;32mif\u001b[0m \u001b[0;32mnot\u001b[0m \u001b[0mself\u001b[0m\u001b[0;34m.\u001b[0m\u001b[0mready\u001b[0m\u001b[0;34m(\u001b[0m\u001b[0;34m)\u001b[0m\u001b[0;34m:\u001b[0m\u001b[0;34m\u001b[0m\u001b[0;34m\u001b[0m\u001b[0m\n\u001b[1;32m    640\u001b[0m             \u001b[0;32mraise\u001b[0m \u001b[0mTimeoutError\u001b[0m\u001b[0;34m\u001b[0m\u001b[0;34m\u001b[0m\u001b[0m\n",
      "\u001b[0;32m~/anaconda/envs/SWIenv/lib/python3.6/site-packages/multiprocess/pool.py\u001b[0m in \u001b[0;36mwait\u001b[0;34m(self, timeout)\u001b[0m\n\u001b[1;32m    633\u001b[0m \u001b[0;34m\u001b[0m\u001b[0m\n\u001b[1;32m    634\u001b[0m     \u001b[0;32mdef\u001b[0m \u001b[0mwait\u001b[0m\u001b[0;34m(\u001b[0m\u001b[0mself\u001b[0m\u001b[0;34m,\u001b[0m \u001b[0mtimeout\u001b[0m\u001b[0;34m=\u001b[0m\u001b[0;32mNone\u001b[0m\u001b[0;34m)\u001b[0m\u001b[0;34m:\u001b[0m\u001b[0;34m\u001b[0m\u001b[0;34m\u001b[0m\u001b[0m\n\u001b[0;32m--> 635\u001b[0;31m         \u001b[0mself\u001b[0m\u001b[0;34m.\u001b[0m\u001b[0m_event\u001b[0m\u001b[0;34m.\u001b[0m\u001b[0mwait\u001b[0m\u001b[0;34m(\u001b[0m\u001b[0mtimeout\u001b[0m\u001b[0;34m)\u001b[0m\u001b[0;34m\u001b[0m\u001b[0;34m\u001b[0m\u001b[0m\n\u001b[0m\u001b[1;32m    636\u001b[0m \u001b[0;34m\u001b[0m\u001b[0m\n\u001b[1;32m    637\u001b[0m     \u001b[0;32mdef\u001b[0m \u001b[0mget\u001b[0m\u001b[0;34m(\u001b[0m\u001b[0mself\u001b[0m\u001b[0;34m,\u001b[0m \u001b[0mtimeout\u001b[0m\u001b[0;34m=\u001b[0m\u001b[0;32mNone\u001b[0m\u001b[0;34m)\u001b[0m\u001b[0;34m:\u001b[0m\u001b[0;34m\u001b[0m\u001b[0;34m\u001b[0m\u001b[0m\n",
      "\u001b[0;32m~/anaconda/envs/SWIenv/lib/python3.6/threading.py\u001b[0m in \u001b[0;36mwait\u001b[0;34m(self, timeout)\u001b[0m\n\u001b[1;32m    549\u001b[0m             \u001b[0msignaled\u001b[0m \u001b[0;34m=\u001b[0m \u001b[0mself\u001b[0m\u001b[0;34m.\u001b[0m\u001b[0m_flag\u001b[0m\u001b[0;34m\u001b[0m\u001b[0;34m\u001b[0m\u001b[0m\n\u001b[1;32m    550\u001b[0m             \u001b[0;32mif\u001b[0m \u001b[0;32mnot\u001b[0m \u001b[0msignaled\u001b[0m\u001b[0;34m:\u001b[0m\u001b[0;34m\u001b[0m\u001b[0;34m\u001b[0m\u001b[0m\n\u001b[0;32m--> 551\u001b[0;31m                 \u001b[0msignaled\u001b[0m \u001b[0;34m=\u001b[0m \u001b[0mself\u001b[0m\u001b[0;34m.\u001b[0m\u001b[0m_cond\u001b[0m\u001b[0;34m.\u001b[0m\u001b[0mwait\u001b[0m\u001b[0;34m(\u001b[0m\u001b[0mtimeout\u001b[0m\u001b[0;34m)\u001b[0m\u001b[0;34m\u001b[0m\u001b[0;34m\u001b[0m\u001b[0m\n\u001b[0m\u001b[1;32m    552\u001b[0m             \u001b[0;32mreturn\u001b[0m \u001b[0msignaled\u001b[0m\u001b[0;34m\u001b[0m\u001b[0;34m\u001b[0m\u001b[0m\n\u001b[1;32m    553\u001b[0m \u001b[0;34m\u001b[0m\u001b[0m\n",
      "\u001b[0;32m~/anaconda/envs/SWIenv/lib/python3.6/threading.py\u001b[0m in \u001b[0;36mwait\u001b[0;34m(self, timeout)\u001b[0m\n\u001b[1;32m    293\u001b[0m         \u001b[0;32mtry\u001b[0m\u001b[0;34m:\u001b[0m    \u001b[0;31m# restore state no matter what (e.g., KeyboardInterrupt)\u001b[0m\u001b[0;34m\u001b[0m\u001b[0;34m\u001b[0m\u001b[0m\n\u001b[1;32m    294\u001b[0m             \u001b[0;32mif\u001b[0m \u001b[0mtimeout\u001b[0m \u001b[0;32mis\u001b[0m \u001b[0;32mNone\u001b[0m\u001b[0;34m:\u001b[0m\u001b[0;34m\u001b[0m\u001b[0;34m\u001b[0m\u001b[0m\n\u001b[0;32m--> 295\u001b[0;31m                 \u001b[0mwaiter\u001b[0m\u001b[0;34m.\u001b[0m\u001b[0macquire\u001b[0m\u001b[0;34m(\u001b[0m\u001b[0;34m)\u001b[0m\u001b[0;34m\u001b[0m\u001b[0;34m\u001b[0m\u001b[0m\n\u001b[0m\u001b[1;32m    296\u001b[0m                 \u001b[0mgotit\u001b[0m \u001b[0;34m=\u001b[0m \u001b[0;32mTrue\u001b[0m\u001b[0;34m\u001b[0m\u001b[0;34m\u001b[0m\u001b[0m\n\u001b[1;32m    297\u001b[0m             \u001b[0;32melse\u001b[0m\u001b[0;34m:\u001b[0m\u001b[0;34m\u001b[0m\u001b[0;34m\u001b[0m\u001b[0m\n",
      "\u001b[0;31mKeyboardInterrupt\u001b[0m: "
     ]
    },
    {
     "name": "stderr",
     "output_type": "stream",
     "text": [
      "Process ForkPoolWorker-10:\n",
      "Traceback (most recent call last):\n",
      "  File \"/Users/ianpg/anaconda/envs/SWIenv/lib/python3.6/site-packages/multiprocess/process.py\", line 258, in _bootstrap\n",
      "    self.run()\n",
      "  File \"/Users/ianpg/anaconda/envs/SWIenv/lib/python3.6/site-packages/multiprocess/process.py\", line 93, in run\n",
      "    self._target(*self._args, **self._kwargs)\n",
      "  File \"/Users/ianpg/anaconda/envs/SWIenv/lib/python3.6/site-packages/multiprocess/pool.py\", line 119, in worker\n",
      "    result = (True, func(*args, **kwds))\n",
      "  File \"/Users/ianpg/anaconda/envs/SWIenv/lib/python3.6/site-packages/multiprocess/pool.py\", line 44, in mapstar\n",
      "    return list(map(*args))\n",
      "  File \"../../kang-2019-3D-aem/kang-2019-3D-aem/codes/simpegskytem/EMSimulation.py\", line 112, in run_simulation_skytem\n",
      "    base_frequency_dual_moment=base_frequency_dual_moment\n",
      "  File \"../../kang-2019-3D-aem/kang-2019-3D-aem/codes/simpegskytem/TDEM.py\", line 89, in simulate\n",
      "    sol_n2 = Ainv*rhs\n",
      "  File \"/Users/ianpg/anaconda/envs/SWIenv/lib/python3.6/site-packages/pymatsolver/solvers.py\", line 82, in __mul__\n",
      "    return self._solve(val)\n",
      "  File \"/Users/ianpg/anaconda/envs/SWIenv/lib/python3.6/site-packages/pymatsolver/solvers.py\", line 65, in _solve\n",
      "    x = self._solve1(rhs)\n",
      "  File \"/Users/ianpg/anaconda/envs/SWIenv/lib/python3.6/site-packages/pymatsolver/direct.py\", line 87, in _solveM\n",
      "    sol = self.solver.solve(rhs)\n",
      "  File \"/Users/ianpg/anaconda/envs/SWIenv/lib/python3.6/site-packages/pyMKL/pardisoSolver.py\", line 149, in solve\n",
      "    x = self.run_pardiso(phase=33, rhs=rhs)\n",
      "  File \"/Users/ianpg/anaconda/envs/SWIenv/lib/python3.6/site-packages/pyMKL/pardisoSolver.py\", line 220, in run_pardiso\n",
      "    byref(c_int(ERR)))          # error\n",
      "KeyboardInterrupt\n",
      "Process ForkPoolWorker-12:\n",
      "Traceback (most recent call last):\n",
      "  File \"/Users/ianpg/anaconda/envs/SWIenv/lib/python3.6/site-packages/multiprocess/process.py\", line 258, in _bootstrap\n",
      "    self.run()\n",
      "  File \"/Users/ianpg/anaconda/envs/SWIenv/lib/python3.6/site-packages/multiprocess/process.py\", line 93, in run\n",
      "    self._target(*self._args, **self._kwargs)\n",
      "  File \"/Users/ianpg/anaconda/envs/SWIenv/lib/python3.6/site-packages/multiprocess/pool.py\", line 119, in worker\n",
      "    result = (True, func(*args, **kwds))\n",
      "  File \"/Users/ianpg/anaconda/envs/SWIenv/lib/python3.6/site-packages/multiprocess/pool.py\", line 44, in mapstar\n",
      "    return list(map(*args))\n",
      "  File \"../../kang-2019-3D-aem/kang-2019-3D-aem/codes/simpegskytem/EMSimulation.py\", line 112, in run_simulation_skytem\n",
      "    base_frequency_dual_moment=base_frequency_dual_moment\n",
      "  File \"../../kang-2019-3D-aem/kang-2019-3D-aem/codes/simpegskytem/TDEM.py\", line 89, in simulate\n",
      "    sol_n2 = Ainv*rhs\n",
      "  File \"/Users/ianpg/anaconda/envs/SWIenv/lib/python3.6/site-packages/pymatsolver/solvers.py\", line 82, in __mul__\n",
      "    return self._solve(val)\n",
      "  File \"/Users/ianpg/anaconda/envs/SWIenv/lib/python3.6/site-packages/pymatsolver/solvers.py\", line 65, in _solve\n",
      "    x = self._solve1(rhs)\n",
      "  File \"/Users/ianpg/anaconda/envs/SWIenv/lib/python3.6/site-packages/pymatsolver/direct.py\", line 86, in _solveM\n",
      "    self.factor()\n",
      "  File \"/Users/ianpg/anaconda/envs/SWIenv/lib/python3.6/site-packages/pymatsolver/direct.py\", line 82, in factor\n",
      "    self.solver.factor()\n",
      "  File \"/Users/ianpg/anaconda/envs/SWIenv/lib/python3.6/site-packages/pyMKL/pardisoSolver.py\", line 146, in factor\n",
      "    out = self.run_pardiso(phase=12)\n",
      "  File \"/Users/ianpg/anaconda/envs/SWIenv/lib/python3.6/site-packages/pyMKL/pardisoSolver.py\", line 220, in run_pardiso\n",
      "    byref(c_int(ERR)))          # error\n",
      "KeyboardInterrupt\n",
      "Process ForkPoolWorker-11:\n",
      "Traceback (most recent call last):\n",
      "  File \"/Users/ianpg/anaconda/envs/SWIenv/lib/python3.6/site-packages/multiprocess/process.py\", line 258, in _bootstrap\n",
      "    self.run()\n",
      "  File \"/Users/ianpg/anaconda/envs/SWIenv/lib/python3.6/site-packages/multiprocess/process.py\", line 93, in run\n",
      "    self._target(*self._args, **self._kwargs)\n",
      "  File \"/Users/ianpg/anaconda/envs/SWIenv/lib/python3.6/site-packages/multiprocess/pool.py\", line 119, in worker\n",
      "    result = (True, func(*args, **kwds))\n",
      "  File \"/Users/ianpg/anaconda/envs/SWIenv/lib/python3.6/site-packages/multiprocess/pool.py\", line 44, in mapstar\n",
      "    return list(map(*args))\n",
      "  File \"../../kang-2019-3D-aem/kang-2019-3D-aem/codes/simpegskytem/EMSimulation.py\", line 112, in run_simulation_skytem\n",
      "    base_frequency_dual_moment=base_frequency_dual_moment\n",
      "  File \"../../kang-2019-3D-aem/kang-2019-3D-aem/codes/simpegskytem/TDEM.py\", line 89, in simulate\n",
      "    sol_n2 = Ainv*rhs\n",
      "  File \"/Users/ianpg/anaconda/envs/SWIenv/lib/python3.6/site-packages/pymatsolver/solvers.py\", line 82, in __mul__\n",
      "    return self._solve(val)\n",
      "  File \"/Users/ianpg/anaconda/envs/SWIenv/lib/python3.6/site-packages/pymatsolver/solvers.py\", line 65, in _solve\n",
      "    x = self._solve1(rhs)\n",
      "  File \"/Users/ianpg/anaconda/envs/SWIenv/lib/python3.6/site-packages/pymatsolver/direct.py\", line 86, in _solveM\n",
      "    self.factor()\n",
      "Process ForkPoolWorker-9:\n",
      "Traceback (most recent call last):\n",
      "  File \"/Users/ianpg/anaconda/envs/SWIenv/lib/python3.6/site-packages/multiprocess/process.py\", line 258, in _bootstrap\n",
      "    self.run()\n",
      "  File \"/Users/ianpg/anaconda/envs/SWIenv/lib/python3.6/site-packages/multiprocess/process.py\", line 93, in run\n",
      "    self._target(*self._args, **self._kwargs)\n",
      "  File \"/Users/ianpg/anaconda/envs/SWIenv/lib/python3.6/site-packages/multiprocess/pool.py\", line 119, in worker\n",
      "    result = (True, func(*args, **kwds))\n",
      "  File \"/Users/ianpg/anaconda/envs/SWIenv/lib/python3.6/site-packages/multiprocess/pool.py\", line 44, in mapstar\n",
      "    return list(map(*args))\n",
      "  File \"../../kang-2019-3D-aem/kang-2019-3D-aem/codes/simpegskytem/EMSimulation.py\", line 112, in run_simulation_skytem\n",
      "    base_frequency_dual_moment=base_frequency_dual_moment\n",
      "  File \"../../kang-2019-3D-aem/kang-2019-3D-aem/codes/simpegskytem/TDEM.py\", line 89, in simulate\n",
      "    sol_n2 = Ainv*rhs\n",
      "  File \"/Users/ianpg/anaconda/envs/SWIenv/lib/python3.6/site-packages/pymatsolver/solvers.py\", line 82, in __mul__\n",
      "    return self._solve(val)\n",
      "  File \"/Users/ianpg/anaconda/envs/SWIenv/lib/python3.6/site-packages/pymatsolver/direct.py\", line 82, in factor\n",
      "    self.solver.factor()\n",
      "  File \"/Users/ianpg/anaconda/envs/SWIenv/lib/python3.6/site-packages/pyMKL/pardisoSolver.py\", line 146, in factor\n",
      "    out = self.run_pardiso(phase=12)\n",
      "  File \"/Users/ianpg/anaconda/envs/SWIenv/lib/python3.6/site-packages/pyMKL/pardisoSolver.py\", line 220, in run_pardiso\n",
      "    byref(c_int(ERR)))          # error\n",
      "KeyboardInterrupt\n",
      "  File \"/Users/ianpg/anaconda/envs/SWIenv/lib/python3.6/site-packages/pymatsolver/solvers.py\", line 65, in _solve\n",
      "    x = self._solve1(rhs)\n",
      "  File \"/Users/ianpg/anaconda/envs/SWIenv/lib/python3.6/site-packages/pymatsolver/direct.py\", line 86, in _solveM\n",
      "    self.factor()\n",
      "  File \"/Users/ianpg/anaconda/envs/SWIenv/lib/python3.6/site-packages/pymatsolver/direct.py\", line 82, in factor\n",
      "    self.solver.factor()\n",
      "  File \"/Users/ianpg/anaconda/envs/SWIenv/lib/python3.6/site-packages/pyMKL/pardisoSolver.py\", line 146, in factor\n",
      "    out = self.run_pardiso(phase=12)\n",
      "  File \"/Users/ianpg/anaconda/envs/SWIenv/lib/python3.6/site-packages/pyMKL/pardisoSolver.py\", line 220, in run_pardiso\n",
      "    byref(c_int(ERR)))          # error\n",
      "KeyboardInterrupt\n"
     ]
    }
   ],
   "source": [
    "%time data = simulation.forward(1./rho)"
   ]
  },
  {
   "cell_type": "code",
   "execution_count": 59,
   "metadata": {},
   "outputs": [],
   "source": [
    "aemdir = '/Users/ianpg/Documents/ProjectsLocal/SWIsmall/work/heterog_1000/MC_expt_2020-02-01-18-15/export_1000/aem_data_1000'\n",
    "data = load_obj(aemdir,'aem_data_it491')[0]\n",
    "n_sounding = 125"
   ]
  },
  {
   "cell_type": "code",
   "execution_count": 61,
   "metadata": {},
   "outputs": [
    {
     "data": {
      "image/png": "[encoded data removed]",
      "text/plain": [
       "<Figure size 576x576 with 4 Axes>"
      ]
     },
     "metadata": {
      "needs_background": "light"
     },
     "output_type": "display_data"
    },
    {
     "data": {
      "image/png": "[encoded data removed]",
      "text/plain": [
       "<Figure size 432x288 with 1 Axes>"
      ]
     },
     "metadata": {
      "needs_background": "light"
     },
     "output_type": "display_data"
    },
    {
     "data": {
      "image/png": "[encoded data removed]",
      "text/plain": [
       "<Figure size 720x720 with 1 Axes>"
      ]
     },
     "metadata": {
      "needs_background": "light"
     },
     "output_type": "display_data"
    }
   ],
   "source": [
    "DATA = data.reshape((times_hm_312.size+times_lm_312.size, n_sounding), order='F')\n",
    "DATA_HM = -DATA[:times_hm_312.size,:]\n",
    "DATA_LM = -DATA[times_hm_312.size:,:]\n",
    "\n",
    "def circle(x, y, w,h):\n",
    "    from matplotlib.patches import Circle,Ellipse\n",
    "    from matplotlib.patheffects import withStroke\n",
    "    circle = Ellipse((x, y), w,h, clip_on=False, zorder=10, linewidth=1,\n",
    "                    edgecolor='black', facecolor=(0, 0, 0, .0125))\n",
    "#                     path_effects=[withStroke(linewidth=5, foreground='w')])\n",
    "    ax.add_artist(circle)\n",
    "\n",
    "\n",
    "# i_sounding = (0,26,54,83)\n",
    "i_sounding = np.arange(0,125,10)\n",
    "   \n",
    "    \n",
    "f,axs = plt.subplots(2,1,figsize=(8,8))\n",
    "\n",
    "i_time = 20\n",
    "plt.sca(axs.flatten()[0])\n",
    "ax = plt.gca()\n",
    "grid =Utils.plot2Ddata(xy,np.log10(DATA_HM[i_time,:]), ncontour=100, contourOpts={'cmap':'jet'},ax=ax )\n",
    "plt.colorbar(grid[0])\n",
    "\n",
    "for i in i_sounding:\n",
    "    circle(xy[i,0],xy[i,1],50,5)\n",
    "    plt.annotate(str(i),(xy[i,0],xy[i,1]),color='w',fontsize=14)\n",
    "\n",
    "\n",
    "ax.set_aspect(15)\n",
    "\n",
    "i_time = 10\n",
    "plt.sca(axs.flatten()[1])\n",
    "ax = plt.gca()\n",
    "grid = Utils.plot2Ddata(xy, np.log10(DATA_LM[i_time,:]), ncontour=100, contourOpts={'cmap':'jet'},ax=ax)\n",
    "plt.colorbar(grid[0])\n",
    "for i in i_sounding:\n",
    "    circle(xy[i,0],xy[i,1],50,5)\n",
    "    plt.annotate('{}'.format(i),(xy[i,0],xy[i,1]),color='w',fontsize=14)\n",
    "\n",
    "ax.set_aspect(15)\n",
    "\n",
    "plt.figure()\n",
    "cmap = matplotlib.cm.get_cmap('Spectral')\n",
    "for i in i_sounding:\n",
    "    plt.loglog(times_hm_312, DATA_HM[:,i],color = cmap(i/max(i_sounding)),label=i)\n",
    "    plt.loglog(times_lm_312, DATA_LM[:,i],color = cmap(i/max(i_sounding)))\n",
    "plt.legend()\n",
    "\n",
    "\n",
    "\n",
    "fig = plt.figure(figsize=(10, 10))\n",
    "ax = plt.gca()\n",
    "mesh.plotSlice(rho, clim=(10, 40), ind=10, ax=ax)\n",
    "for i in i_sounding:\n",
    "    ax.scatter(src_locations[i,0], src_locations[i,1], s=20,c='green')\n",
    "    plt.annotate('{}'.format(i),(xy[i,0],xy[i,1]),color='w',fontsize=14)\n",
    "ax.set_aspect(1)"
   ]
  },
  {
   "cell_type": "code",
   "execution_count": 63,
   "metadata": {},
   "outputs": [
    {
     "data": {
      "image/png": "[encoded data removed]",
      "text/plain": [
       "<Figure size 432x288 with 4 Axes>"
      ]
     },
     "metadata": {
      "needs_background": "light"
     },
     "output_type": "display_data"
    }
   ],
   "source": [
    "mesh.plot_3d_slicer(rho)"
   ]
  },
  {
   "cell_type": "code",
   "execution_count": 45,
   "metadata": {},
   "outputs": [
    {
     "data": {
      "text/plain": [
       "125.0"
      ]
     },
     "execution_count": 45,
     "metadata": {},
     "output_type": "execute_result"
    }
   ],
   "source": [
    "5625/(times_hm_312.size+times_lm_312.size)"
   ]
  },
  {
   "cell_type": "code",
   "execution_count": 234,
   "metadata": {},
   "outputs": [
    {
     "ename": "TypeError",
     "evalue": "from_list() missing 2 required positional arguments: 'name' and 'colors'",
     "output_type": "error",
     "traceback": [
      "\u001b[0;31m---------------------------------------------------------------------------\u001b[0m",
      "\u001b[0;31mTypeError\u001b[0m                                 Traceback (most recent call last)",
      "\u001b[0;32m<ipython-input-234-0fb9ec9647bf>\u001b[0m in \u001b[0;36m<module>\u001b[0;34m\u001b[0m\n\u001b[0;32m----> 1\u001b[0;31m \u001b[0mcmap\u001b[0m\u001b[0;34m.\u001b[0m\u001b[0mfrom_list\u001b[0m\u001b[0;34m(\u001b[0m\u001b[0;34m)\u001b[0m\u001b[0;34m\u001b[0m\u001b[0;34m\u001b[0m\u001b[0m\n\u001b[0m",
      "\u001b[0;31mTypeError\u001b[0m: from_list() missing 2 required positional arguments: 'name' and 'colors'"
     ]
    }
   ],
   "source": [
    "matplotlib.cm.get_cmap('Spectral')"
   ]
  },
  {
   "cell_type": "code",
   "execution_count": 202,
   "metadata": {},
   "outputs": [
    {
     "data": {
      "image/png": "[encoded data removed]",
      "text/plain": [
       "<Figure size 432x288 with 1 Axes>"
      ]
     },
     "metadata": {
      "needs_background": "light"
     },
     "output_type": "display_data"
    }
   ],
   "source": []
  },
  {
   "cell_type": "markdown",
   "metadata": {},
   "source": [
    "### Additional changes and considerations\n",
    "#### To do:\n",
    "\n",
    "-Change to continuous gaussian sim for HK\n",
    "\n",
    "\n",
    "____________________________\n",
    "\n",
    "#### Considerations:\n",
    "\n",
    "-Fix HK and instead change the HK_variance? To minimize effects of HK\n",
    "\n",
    "-Run to steady state or fixed amount of time?\n",
    "\n",
    "-Transient simulations: frequency of snapshots?\n",
    "\n",
    "-Initial concentration: FW-saturated? Fine if fixed time sims; otherwise partially SW intruded?\n"
   ]
  },
  {
   "cell_type": "markdown",
   "metadata": {},
   "source": [
    "### Joint inversion paper\n",
    "How likely are we to see improvements to SW intruded aquifer from a time-lapse AEM study?\n",
    "\n",
    "0) Simulation of SWI + remediation --> simulate AEM\n",
    "\n",
    "1) Comparison of 2 datasets 2017, 2019\n",
    "\n",
    "2) Joint inversion of 2 datasets 2017, 2019"
   ]
  }
 ],
 "metadata": {
  "kernelspec": {
   "display_name": "Python [conda env:SWIenv]",
   "language": "python",
   "name": "conda-env-SWIenv-py"
  },
  "language_info": {
   "codemirror_mode": {
    "name": "ipython",
    "version": 3
   },
   "file_extension": ".py",
   "mimetype": "text/x-python",
   "name": "python",
   "nbconvert_exporter": "python",
   "pygments_lexer": "ipython3",
   "version": "3.6.7"
  }
 },
 "nbformat": 4,
 "nbformat_minor": 2
}
