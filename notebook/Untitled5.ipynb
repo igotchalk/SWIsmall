{
 "cells": [
  {
   "cell_type": "code",
   "execution_count": 1,
   "metadata": {},
   "outputs": [],
   "source": [
    "import os \n",
    "import numpy as np\n",
    "import local_utils\n",
    "import hausdorff_from_dir \n",
    "from pathlib import Path\n",
    "import matplotlib.pyplot as plt\n",
    "import pandas as pd"
   ]
  },
  {
   "cell_type": "code",
   "execution_count": 15,
   "metadata": {},
   "outputs": [
    {
     "data": {
      "text/plain": [
       "2650000"
      ]
     },
     "execution_count": 15,
     "metadata": {},
     "output_type": "execute_result"
    }
   ],
   "source": [
    "2650*1000"
   ]
  },
  {
   "cell_type": "code",
   "execution_count": 2,
   "metadata": {},
   "outputs": [],
   "source": [
    "#RP transforms \n",
    "def WS_sigma(sigma_f, por = 0.4, CEC=1,B0=4.5e-8, m=1.3):\n",
    "    rho_grain = 2650*1000 #g/m^3\n",
    "#     CEC = 1 #meq/g    1:smect,  .2:Ill,  .02-.09:Kaol\n",
    "#     B0 = 4.78e-8  #m^2/(sV)\n",
    "    F = por**(-m)\n",
    "    Qv = rho_grain*((1-por)/por)*CEC\n",
    "    B = B0*(1-.6*np.exp(-sigma_f/.013))\n",
    "    sigma_b = 1/F*(sigma_f + B*Qv)\n",
    "    return sigma_b,B,Qv\n",
    "\n",
    "\n",
    "def HSU(conc_mat,CF_mat,mTDS=1.4200556641030946,bTDS=332.7093594248108,**kwargs):\n",
    "    #kwargs fed to WS_sigma\n",
    "    Cw = (mTDS*conc_mat*1000 + bTDS)/1e4\n",
    "    sig_bs = WS_sigma(Cw,CEC=0,**kwargs)[0]\n",
    "    sig_bc = WS_sigma(Cw,CEC=1,**kwargs)[0]\n",
    "    return sig_bc*(1 - (3*(1-CF_mat)*(sig_bc-sig_bs))/(3*sig_bc - CF_mat*(sig_bc-sig_bs)))\n",
    "\n",
    "\n",
    "def rock_physics(varlist,it,conc_mat):\n",
    "    nlay,nrow,ncol = (26, 20, 100)\n",
    "    dx,dy,dz = (30,30,3)\n",
    "    Lx,Ly,Lz = (dx*ncol,dy*nrow,dz*nlay)\n",
    "\n",
    "    CF_glob = varlist['CF_glob'][it]\n",
    "    CF_var = varlist['CF_var'][it]\n",
    "    corr_len = varlist['corr_len'][it]\n",
    "    corr_len_yx = varlist['corr_len_yx'][it]\n",
    "    corr_len_zx = varlist['corr_len_zx'][it]\n",
    "    vario_type = varlist['vario_type'][it]\n",
    "    lcol = int(corr_len/dx)\n",
    "    llay = int(corr_len*corr_len_zx/dz)\n",
    "    lrow = int(corr_len*corr_len_yx/dy)\n",
    "    seed = varlist['seed'][it]\n",
    "    por_mean = varlist['por_mean'][it]\n",
    "    por_var  = varlist['por_var'][it]\n",
    "\n",
    "    cf_mat = simulFFT(nrow,nlay, ncol,\n",
    "                     CF_glob,\n",
    "                     CF_var,\n",
    "                     vario_type,\n",
    "                     lrow , llay, lcol,seed=seed)\n",
    "    cf_mat[cf_mat > 1.] = 1.\n",
    "    cf_mat[cf_mat < 0.] = 0.\n",
    "\n",
    "    por_mat = simulFFT(nrow,nlay, ncol,\n",
    "                     por_mean,\n",
    "                     por_var,\n",
    "                     vario_type,\n",
    "                     lrow , llay, lcol,seed=seed)\n",
    "    por_mat[por_mat > 1.] = 1.\n",
    "    por_mat[por_mat < 0.] = 0.\n",
    "    sigma_bulk = HSU(conc_mat,cf_mat,por=por_mat)\n",
    "    return sigma_bulk"
   ]
  },
  {
   "cell_type": "code",
   "execution_count": 13,
   "metadata": {},
   "outputs": [
    {
     "data": {
      "text/plain": [
       "0.8252640815001918"
      ]
     },
     "execution_count": 13,
     "metadata": {},
     "output_type": "execute_result"
    }
   ],
   "source": [
    "\n",
    "\n",
    "\n",
    "sig_bulk = sig_bc*(1 - (3*(1-CF_mat)*(sig_bc-sig_bs))/(3*sig_bc - CF_mat*(sig_bc-sig_bs)))\n",
    "\n",
    "\n",
    "sig_bulk =sig_bc - sig_bc(3*(1-CF_mat)*(sig_bc-sig_bs))/(3*sig_bc - CF_mat*(sig_bc-sig_bs))\n",
    "\n",
    "rtho_bulk = 1/(sig_bc - sig_bc(3*(1-CF_mat)*(sig_bc-sig_bs))/(3*sig_bc - CF_mat*(sig_bc-sig_bs)))\n",
    "\n",
    "\n",
    "\n",
    "\n",
    "\n",
    "\n",
    "\n"
   ]
  },
  {
   "cell_type": "code",
   "execution_count": 14,
   "metadata": {},
   "outputs": [
    {
     "data": {
      "text/plain": [
       "1000.0"
      ]
     },
     "execution_count": 14,
     "metadata": {},
     "output_type": "execute_result"
    }
   ],
   "source": [
    "1/1e-3"
   ]
  },
  {
   "cell_type": "code",
   "execution_count": 17,
   "metadata": {},
   "outputs": [
    {
     "data": {
      "text/plain": [
       "30.056262971645996"
      ]
     },
     "execution_count": 17,
     "metadata": {},
     "output_type": "execute_result"
    }
   ],
   "source": [
    "mTDS=1.4200556641030946\n",
    "bTDS=332.7093594248108\n",
    "conc_mat = 0\n",
    "Cw = (mTDS*conc_mat*1000 + bTDS)/1e4\n",
    "\n",
    "1/Cw"
   ]
  },
  {
   "cell_type": "code",
   "execution_count": 21,
   "metadata": {},
   "outputs": [
    {
     "data": {
      "text/plain": [
       "16.0193161670281"
      ]
     },
     "execution_count": 21,
     "metadata": {},
     "output_type": "execute_result"
    }
   ],
   "source": [
    "1/HSU(conc_mat,1,por=.3)"
   ]
  },
  {
   "cell_type": "code",
   "execution_count": null,
   "metadata": {},
   "outputs": [],
   "source": []
  }
 ],
 "metadata": {
  "kernelspec": {
   "display_name": "Python [conda env:SWIenv]",
   "language": "python",
   "name": "conda-env-SWIenv-py"
  },
  "language_info": {
   "codemirror_mode": {
    "name": "ipython",
    "version": 3
   },
   "file_extension": ".py",
   "mimetype": "text/x-python",
   "name": "python",
   "nbconvert_exporter": "python",
   "pygments_lexer": "ipython3",
   "version": "3.6.7"
  }
 },
 "nbformat": 4,
 "nbformat_minor": 2
}
