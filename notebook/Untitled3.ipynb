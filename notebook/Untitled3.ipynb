{
 "cells": [
  {
   "cell_type": "code",
   "execution_count": 1,
   "metadata": {},
   "outputs": [],
   "source": [
    "import os \n",
    "import numpy as np\n",
    "import local_utils\n",
    "import hausdorff_from_dir \n",
    "from pathlib import Path"
   ]
  },
  {
   "cell_type": "code",
   "execution_count": 24,
   "metadata": {},
   "outputs": [
    {
     "name": "stdout",
     "output_type": "stream",
     "text": [
      "file 0 of 3\n",
      "file 1 of 3\n",
      "file 2 of 3\n",
      "Removing 0 files out of 3...\n",
      "it 0\n",
      "i 0\n",
      "it 1\n",
      "i 1\n",
      "it 2\n",
      "i 2\n",
      "saving...\n",
      "...done!\n"
     ]
    }
   ],
   "source": [
    "ucndir = Path('../work//heterog_1000/MC_expt_2020-02-11-confined')\n",
    "totims = np.arange(360*5,7201,360*5)\n",
    "fnames = hausdorff_from_dir.create_concmat_from_ucndir(ucndir,totims=totims)"
   ]
  },
  {
   "cell_type": "code",
   "execution_count": 25,
   "metadata": {},
   "outputs": [],
   "source": [
    "import glob\n",
    "import flopy\n",
    "dirname=Path(ucndir)\n",
    "ucn_fnames = sorted(glob.glob(dirname.joinpath('*.UCN').as_posix()),\n",
    "                     key=os.path.getctime)\n",
    "\n",
    "\n",
    "#check out concentration mat size\n",
    "ucnobj = flopy.utils.binaryfile.UcnFile(ucn_fnames[0])"
   ]
  },
  {
   "cell_type": "code",
   "execution_count": 26,
   "metadata": {},
   "outputs": [],
   "source": [
    "# ucndir = Path('../work//heterog_1000/MC_expt_2020-02-01-18-15')\n",
    "ucndict = local_utils.create_ucn_dict(ucndir)"
   ]
  },
  {
   "cell_type": "code",
   "execution_count": 27,
   "metadata": {},
   "outputs": [
    {
     "data": {
      "text/plain": [
       "{5009: 'conc5009_20200211_1130_totim7200_confined_laytyp0.UCN',\n",
       " 5010: 'conc5010_20200211_1103_totim7200_unconfined.UCN',\n",
       " 5011: 'conc5011_20200211_1113_totim7200_confined.UCN'}"
      ]
     },
     "execution_count": 27,
     "metadata": {},
     "output_type": "execute_result"
    }
   ],
   "source": [
    "ucndict"
   ]
  },
  {
   "cell_type": "code",
   "execution_count": 32,
   "metadata": {},
   "outputs": [],
   "source": [
    "conc_mat = np.load(ucndir.joinpath(fnames[-4]))"
   ]
  },
  {
   "cell_type": "code",
   "execution_count": 33,
   "metadata": {},
   "outputs": [
    {
     "data": {
      "image/png": "[encoded data removed]",
      "text/plain": [
       "<Figure size 432x288 with 3 Axes>"
      ]
     },
     "metadata": {
      "needs_background": "light"
     },
     "output_type": "display_data"
    }
   ],
   "source": [
    "import matplotlib.pyplot as plt\n",
    "f,axs = plt.subplots(3,1)\n",
    "for i,ax in enumerate(axs.flatten()):\n",
    "    plt.sca(ax)\n",
    "    plt.imshow(conc_mat[i][:,10,:])"
   ]
  },
  {
   "cell_type": "code",
   "execution_count": 23,
   "metadata": {},
   "outputs": [
    {
     "data": {
      "text/plain": [
       "<matplotlib.image.AxesImage at 0x111e06198>"
      ]
     },
     "execution_count": 23,
     "metadata": {},
     "output_type": "execute_result"
    },
    {
     "data": {
      "image/png": "[encoded data removed]",
      "text/plain": [
       "<Figure size 432x288 with 1 Axes>"
      ]
     },
     "metadata": {
      "needs_background": "light"
     },
     "output_type": "display_data"
    }
   ],
   "source": [
    "plt.imshow(conc_mat[1][:,10,:])"
   ]
  },
  {
   "cell_type": "code",
   "execution_count": null,
   "metadata": {},
   "outputs": [],
   "source": []
  }
 ],
 "metadata": {
  "kernelspec": {
   "display_name": "Python [conda env:SWIenv]",
   "language": "python",
   "name": "conda-env-SWIenv-py"
  },
  "language_info": {
   "codemirror_mode": {
    "name": "ipython",
    "version": 3
   },
   "file_extension": ".py",
   "mimetype": "text/x-python",
   "name": "python",
   "nbconvert_exporter": "python",
   "pygments_lexer": "ipython3",
   "version": "3.6.7"
  }
 },
 "nbformat": 4,
 "nbformat_minor": 2
}
