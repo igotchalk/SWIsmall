{
 "cells": [
  {
   "cell_type": "code",
   "execution_count": 9,
   "metadata": {},
   "outputs": [
    {
     "name": "stdout",
     "output_type": "stream",
     "text": [
      "3.6.7 | packaged by conda-forge | (default, Feb 28 2019, 02:16:08) \n",
      "[GCC 4.2.1 Compatible Clang 4.0.1 (tags/RELEASE_401/final)]\n",
      "numpy version: 1.16.3\n",
      "flopy version: 3.2.10\n",
      "Model workspace: /Users/ianpg/Documents/ProjectsLocal/SWIsmall/work/test\n"
     ]
    }
   ],
   "source": [
    "\n",
    "#Name model\n",
    "modelname = 'test'\n",
    "\n",
    "\n",
    "import os\n",
    "from pathlib import Path\n",
    "import sys\n",
    "import numpy as np\n",
    "import flopy\n",
    "import SGD\n",
    "import config\n",
    "import datetime\n",
    "\n",
    "# repo = Path('/scratch/users/ianpg/henry')\n",
    "repo = Path('/Users/ianpg/Documents/ProjectsLocal/SWIsmall')\n",
    "workdir = repo.joinpath('work')\n",
    "figdir = workdir.joinpath('figs')\n",
    "datadir = repo.joinpath('data')\n",
    "objdir = repo.joinpath('data', 'objs')\n",
    "model_ws = repo.joinpath('work', modelname)    \n",
    "basecase_ws = workdir.joinpath('base_case_3m')\n",
    "\n",
    "for p in (workdir,figdir,datadir,objdir,model_ws):\n",
    "    if not p.exists():\n",
    "        p.mkdir()\n",
    "        print('making', p)\n",
    "        \n",
    "# sys.path.append(repo.joinpath('notebook').as_posix())\n",
    "sw_exe = config.swexe  # set the exe path for seawat\n",
    "print('Model workspace:', model_ws)\n",
    "\n",
    "def load_obj(dirname,name):\n",
    "    import pickle\n",
    "    with open(Path(dirname).joinpath(name + '.pkl').as_posix(), 'rb') as f:\n",
    "        return pickle.load(f)\n",
    "\n",
    "def save_obj(dirname,obj,name):\n",
    "    import pickle\n",
    "    with open(Path(dirname).joinpath(name + '.pkl').as_posix(), 'wb') as f:\n",
    "        pickle.dump(obj, f, pickle.HIGHEST_PROTOCOL)\n",
    "\n",
    "\n",
    "m = flopy.seawat.Seawat.load(basecase_ws.joinpath(basecase_ws.parts[-1] + '.nam').as_posix())\n",
    "\n"
   ]
  },
  {
   "cell_type": "code",
   "execution_count": 10,
   "metadata": {},
   "outputs": [],
   "source": []
  },
  {
   "cell_type": "code",
   "execution_count": null,
   "metadata": {},
   "outputs": [],
   "source": []
  },
  {
   "cell_type": "code",
   "execution_count": null,
   "metadata": {},
   "outputs": [],
   "source": []
  }
 ],
 "metadata": {
  "kernelspec": {
   "display_name": "Python [conda env:SWIenv]",
   "language": "python",
   "name": "conda-env-SWIenv-py"
  },
  "language_info": {
   "codemirror_mode": {
    "name": "ipython",
    "version": 3
   },
   "file_extension": ".py",
   "mimetype": "text/x-python",
   "name": "python",
   "nbconvert_exporter": "python",
   "pygments_lexer": "ipython3",
   "version": "3.6.7"
  }
 },
 "nbformat": 4,
 "nbformat_minor": 2
}
