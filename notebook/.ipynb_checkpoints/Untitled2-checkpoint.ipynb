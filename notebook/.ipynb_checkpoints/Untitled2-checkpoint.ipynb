{
 "cells": [
  {
   "cell_type": "markdown",
   "metadata": {},
   "source": [
    "### Unpack success objects in directory\n"
   ]
  },
  {
   "cell_type": "code",
   "execution_count": 45,
   "metadata": {},
   "outputs": [],
   "source": [
    "from pathlib import Path\n",
    "import local_utils\n",
    "import numpy as np\n",
    "success_dir = Path('../data/success')\n",
    "varlist_dir = Path('../data')"
   ]
  },
  {
   "cell_type": "code",
   "execution_count": 46,
   "metadata": {},
   "outputs": [],
   "source": [
    "varlist = local_utils.load_obj(varlist_dir,'varlist')\n",
    "nams = [p.name for p in success_dir.iterdir()]\n",
    "its = [int(nam[len('success'):nam.find('.')]) for nam in nams]\n",
    "inds = sorted(range(len(its)), key=lambda k: its[k])\n",
    "nams_sorted = [nams[ind][:-4] for ind in inds]"
   ]
  },
  {
   "cell_type": "code",
   "execution_count": 59,
   "metadata": {},
   "outputs": [],
   "source": [
    "success_list= []\n",
    "for n in nams_sorted:\n",
    "    success_list.append(local_utils.load_obj(success_dir,n))\n",
    "success_array = np.asarray(success_list)\n",
    "varlist['success'][success_array[:,0]] = success_array[:,1]\n",
    "\n",
    "local_utils.save_obj(varlist_dir,varlist,'varlist_final')"
   ]
  },
  {
   "cell_type": "code",
   "execution_count": null,
   "metadata": {},
   "outputs": [],
   "source": []
  }
 ],
 "metadata": {
  "kernelspec": {
   "display_name": "Python [conda env:SWIenv]",
   "language": "python",
   "name": "conda-env-SWIenv-py"
  },
  "language_info": {
   "codemirror_mode": {
    "name": "ipython",
    "version": 3
   },
   "file_extension": ".py",
   "mimetype": "text/x-python",
   "name": "python",
   "nbconvert_exporter": "python",
   "pygments_lexer": "ipython3",
   "version": "3.6.7"
  }
 },
 "nbformat": 4,
 "nbformat_minor": 2
}
